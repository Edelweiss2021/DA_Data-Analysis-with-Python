{
 "cells": [
  {
   "cell_type": "markdown",
   "id": "5be3ac0d",
   "metadata": {},
   "source": [
    "## <p style=\"background-color:#9d4f8c; font-family:newtimeroman; color:#FFF9ED; font-size:150%; text-align:center; border-radius:10px 10px;\">Time Sensitive Real Interview Questions-2 <br> (28 Jun 22)</p>"
   ]
  },
  {
   "cell_type": "markdown",
   "id": "ff956190",
   "metadata": {},
   "source": [
    "### <p style=\"font-family:newtimeroman; color:blue; font-size:100%; text-align:left; border-radius:10px 10px;\"> Use 'sales_082020.csv' and 'currency_rates_082020_EUR.csv' files"
   ]
  },
  {
   "cell_type": "markdown",
   "id": "3996c2f4",
   "metadata": {},
   "source": [
    "**Import libraries**"
   ]
  },
  {
   "cell_type": "code",
   "execution_count": null,
   "id": "ed7fefb9",
   "metadata": {},
   "outputs": [],
   "source": []
  },
  {
   "cell_type": "markdown",
   "id": "75a9c2c6",
   "metadata": {},
   "source": [
    "**1. Which country made the highest percentage of purchases?**"
   ]
  },
  {
   "cell_type": "code",
   "execution_count": null,
   "id": "20fa26a6",
   "metadata": {},
   "outputs": [],
   "source": []
  },
  {
   "cell_type": "code",
   "execution_count": null,
   "id": "633ed5a8",
   "metadata": {},
   "outputs": [],
   "source": []
  },
  {
   "cell_type": "markdown",
   "id": "8d7cbca8",
   "metadata": {},
   "source": [
    "**2. Which day has the highest value of purchases?** "
   ]
  },
  {
   "cell_type": "code",
   "execution_count": null,
   "id": "7637ee57",
   "metadata": {},
   "outputs": [],
   "source": []
  },
  {
   "cell_type": "code",
   "execution_count": null,
   "id": "69168d47",
   "metadata": {},
   "outputs": [],
   "source": []
  },
  {
   "cell_type": "markdown",
   "id": "a98a0308",
   "metadata": {},
   "source": [
    "**3. Which category has 2,324 transactions on 7 August?**"
   ]
  },
  {
   "cell_type": "code",
   "execution_count": null,
   "id": "34741b33",
   "metadata": {},
   "outputs": [],
   "source": []
  },
  {
   "cell_type": "code",
   "execution_count": null,
   "id": "d61f07e6",
   "metadata": {},
   "outputs": [],
   "source": []
  },
  {
   "cell_type": "markdown",
   "id": "e58a39f6",
   "metadata": {},
   "source": [
    "**4. What percentage of global sales value on 4 August came from US sellers?**"
   ]
  },
  {
   "cell_type": "code",
   "execution_count": null,
   "id": "aefb71d8",
   "metadata": {},
   "outputs": [],
   "source": []
  },
  {
   "cell_type": "code",
   "execution_count": null,
   "id": "0fb062f5",
   "metadata": {},
   "outputs": [],
   "source": []
  },
  {
   "cell_type": "markdown",
   "id": "baab7dcd",
   "metadata": {},
   "source": [
    "**5. How many sellers in US has more than 75 sales?**"
   ]
  },
  {
   "cell_type": "code",
   "execution_count": null,
   "id": "fff9ad97",
   "metadata": {},
   "outputs": [],
   "source": []
  },
  {
   "cell_type": "code",
   "execution_count": null,
   "id": "21fe5a1e",
   "metadata": {},
   "outputs": [],
   "source": []
  },
  {
   "cell_type": "markdown",
   "id": "4950a8d0",
   "metadata": {},
   "source": [
    "**6. Which seller in the US sold the most in terms of value?**"
   ]
  },
  {
   "cell_type": "code",
   "execution_count": null,
   "id": "f35ab85f",
   "metadata": {},
   "outputs": [],
   "source": []
  },
  {
   "cell_type": "code",
   "execution_count": null,
   "id": "c2e08039",
   "metadata": {},
   "outputs": [],
   "source": []
  },
  {
   "cell_type": "markdown",
   "id": "b020de3b",
   "metadata": {},
   "source": [
    "**7. Which brand had the largest absolute € difference in average transaction value between domestic and international?**"
   ]
  },
  {
   "cell_type": "code",
   "execution_count": null,
   "id": "f9d68416",
   "metadata": {},
   "outputs": [],
   "source": []
  },
  {
   "cell_type": "code",
   "execution_count": null,
   "id": "ada6ffe9",
   "metadata": {},
   "outputs": [],
   "source": []
  },
  {
   "cell_type": "markdown",
   "id": "6d2e50f4",
   "metadata": {},
   "source": [
    "# THE END"
   ]
  }
 ],
 "metadata": {
  "kernelspec": {
   "display_name": "Python 3 (ipykernel)",
   "language": "python",
   "name": "python3"
  },
  "language_info": {
   "codemirror_mode": {
    "name": "ipython",
    "version": 3
   },
   "file_extension": ".py",
   "mimetype": "text/x-python",
   "name": "python",
   "nbconvert_exporter": "python",
   "pygments_lexer": "ipython3",
   "version": "3.9.7"
  }
 },
 "nbformat": 4,
 "nbformat_minor": 5
}
