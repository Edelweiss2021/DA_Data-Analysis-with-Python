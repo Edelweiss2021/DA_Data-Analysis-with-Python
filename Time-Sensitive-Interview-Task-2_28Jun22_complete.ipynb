{
 "cells": [
  {
   "cell_type": "markdown",
   "id": "5be3ac0d",
   "metadata": {},
   "source": [
    "## <p style=\"background-color:#9d4f8c; font-family:newtimeroman; color:#FFF9ED; font-size:150%; text-align:center; border-radius:10px 10px;\">Time Sensitive Real Interview Questions-2 <br> (28 Jun 22)</p>"
   ]
  },
  {
   "cell_type": "markdown",
   "id": "ff956190",
   "metadata": {},
   "source": [
    "### Use 'sales_082020.csv' and 'currency_rates_082020_EUR.csv' files"
   ]
  },
  {
   "cell_type": "markdown",
   "id": "3996c2f4",
   "metadata": {},
   "source": [
    "**Import libraries**"
   ]
  },
  {
   "cell_type": "code",
   "execution_count": 1,
   "id": "ed7fefb9",
   "metadata": {},
   "outputs": [],
   "source": [
    "import numpy as np\n",
    "import pandas as pd"
   ]
  },
  {
   "cell_type": "code",
   "execution_count": 2,
   "id": "6c1adce3",
   "metadata": {},
   "outputs": [
    {
     "data": {
      "text/html": [
       "<div>\n",
       "<style scoped>\n",
       "    .dataframe tbody tr th:only-of-type {\n",
       "        vertical-align: middle;\n",
       "    }\n",
       "\n",
       "    .dataframe tbody tr th {\n",
       "        vertical-align: top;\n",
       "    }\n",
       "\n",
       "    .dataframe thead th {\n",
       "        text-align: right;\n",
       "    }\n",
       "</style>\n",
       "<table border=\"1\" class=\"dataframe\">\n",
       "  <thead>\n",
       "    <tr style=\"text-align: right;\">\n",
       "      <th></th>\n",
       "      <th>buyer_id</th>\n",
       "      <th>buyer_country</th>\n",
       "      <th>seller_id</th>\n",
       "      <th>seller_country</th>\n",
       "      <th>product_code</th>\n",
       "      <th>category</th>\n",
       "      <th>brand</th>\n",
       "      <th>currency</th>\n",
       "      <th>price</th>\n",
       "      <th>date</th>\n",
       "    </tr>\n",
       "  </thead>\n",
       "  <tbody>\n",
       "    <tr>\n",
       "      <th>0</th>\n",
       "      <td>qzpjsi9t0o</td>\n",
       "      <td>GB</td>\n",
       "      <td>6oufpaot</td>\n",
       "      <td>GB</td>\n",
       "      <td>ydecnydr6obf</td>\n",
       "      <td>Dresses</td>\n",
       "      <td>NaN</td>\n",
       "      <td>GBP</td>\n",
       "      <td>19.11</td>\n",
       "      <td>2020-08-03</td>\n",
       "    </tr>\n",
       "    <tr>\n",
       "      <th>1</th>\n",
       "      <td>o79pns1qwo</td>\n",
       "      <td>GB</td>\n",
       "      <td>50xki2yg</td>\n",
       "      <td>GB</td>\n",
       "      <td>38chj507o6h2</td>\n",
       "      <td>Outerwear</td>\n",
       "      <td>Adidas Originals</td>\n",
       "      <td>GBP</td>\n",
       "      <td>15.92</td>\n",
       "      <td>2020-08-09</td>\n",
       "    </tr>\n",
       "    <tr>\n",
       "      <th>2</th>\n",
       "      <td>sjgbjdkhqx</td>\n",
       "      <td>GB</td>\n",
       "      <td>50xki2yg</td>\n",
       "      <td>GB</td>\n",
       "      <td>i9ynyxj5tdp8</td>\n",
       "      <td>Tops - Mens</td>\n",
       "      <td>NaN</td>\n",
       "      <td>GBP</td>\n",
       "      <td>6.37</td>\n",
       "      <td>2020-08-07</td>\n",
       "    </tr>\n",
       "    <tr>\n",
       "      <th>3</th>\n",
       "      <td>o79pns1qwo</td>\n",
       "      <td>GB</td>\n",
       "      <td>s0p322hh</td>\n",
       "      <td>GB</td>\n",
       "      <td>t50xe7moye8v</td>\n",
       "      <td>Tops - Mens</td>\n",
       "      <td>Berghaus</td>\n",
       "      <td>GBP</td>\n",
       "      <td>25.27</td>\n",
       "      <td>2020-08-09</td>\n",
       "    </tr>\n",
       "    <tr>\n",
       "      <th>4</th>\n",
       "      <td>o79pns1qwo</td>\n",
       "      <td>GB</td>\n",
       "      <td>dpkx192v</td>\n",
       "      <td>GB</td>\n",
       "      <td>hp4r9bjq68af</td>\n",
       "      <td>Bottoms - Womens</td>\n",
       "      <td>NaN</td>\n",
       "      <td>GBP</td>\n",
       "      <td>8.90</td>\n",
       "      <td>2020-08-09</td>\n",
       "    </tr>\n",
       "  </tbody>\n",
       "</table>\n",
       "</div>"
      ],
      "text/plain": [
       "     buyer_id buyer_country seller_id seller_country  product_code  \\\n",
       "0  qzpjsi9t0o            GB  6oufpaot             GB  ydecnydr6obf   \n",
       "1  o79pns1qwo            GB  50xki2yg             GB  38chj507o6h2   \n",
       "2  sjgbjdkhqx            GB  50xki2yg             GB  i9ynyxj5tdp8   \n",
       "3  o79pns1qwo            GB  s0p322hh             GB  t50xe7moye8v   \n",
       "4  o79pns1qwo            GB  dpkx192v             GB  hp4r9bjq68af   \n",
       "\n",
       "           category             brand currency  price        date  \n",
       "0           Dresses               NaN      GBP  19.11  2020-08-03  \n",
       "1         Outerwear  Adidas Originals      GBP  15.92  2020-08-09  \n",
       "2       Tops - Mens               NaN      GBP   6.37  2020-08-07  \n",
       "3       Tops - Mens          Berghaus      GBP  25.27  2020-08-09  \n",
       "4  Bottoms - Womens               NaN      GBP   8.90  2020-08-09  "
      ]
     },
     "execution_count": 2,
     "metadata": {},
     "output_type": "execute_result"
    }
   ],
   "source": [
    "# create dataframe of sales\n",
    "\n",
    "df_sales0 = pd.read_csv('sales_082020.csv')\n",
    "df_sales = df_sales0.copy()\n",
    "df_sales.head()"
   ]
  },
  {
   "cell_type": "code",
   "execution_count": 3,
   "id": "ae9d3e9b",
   "metadata": {},
   "outputs": [
    {
     "data": {
      "text/plain": [
       "buyer_id               0\n",
       "buyer_country          0\n",
       "seller_id              0\n",
       "seller_country         0\n",
       "product_code           0\n",
       "category              16\n",
       "brand             118341\n",
       "currency               0\n",
       "price                  0\n",
       "date                   0\n",
       "dtype: int64"
      ]
     },
     "execution_count": 3,
     "metadata": {},
     "output_type": "execute_result"
    }
   ],
   "source": [
    "df_sales.isnull().sum()"
   ]
  },
  {
   "cell_type": "code",
   "execution_count": 4,
   "id": "e70b01a9",
   "metadata": {},
   "outputs": [
    {
     "data": {
      "text/plain": [
       "False    237631\n",
       "True         40\n",
       "dtype: int64"
      ]
     },
     "execution_count": 4,
     "metadata": {},
     "output_type": "execute_result"
    }
   ],
   "source": [
    "df_sales.duplicated().value_counts()"
   ]
  },
  {
   "cell_type": "code",
   "execution_count": 5,
   "id": "f872e1b7",
   "metadata": {},
   "outputs": [],
   "source": [
    "df_sales.drop_duplicates(subset=None, keep='first', inplace=True)"
   ]
  },
  {
   "cell_type": "code",
   "execution_count": 6,
   "id": "0ba7fff9",
   "metadata": {},
   "outputs": [
    {
     "data": {
      "text/plain": [
       "False    237631\n",
       "dtype: int64"
      ]
     },
     "execution_count": 6,
     "metadata": {},
     "output_type": "execute_result"
    }
   ],
   "source": [
    "df_sales.duplicated().value_counts() # checking"
   ]
  },
  {
   "cell_type": "code",
   "execution_count": 7,
   "id": "6240ae44",
   "metadata": {},
   "outputs": [
    {
     "data": {
      "text/html": [
       "<div>\n",
       "<style scoped>\n",
       "    .dataframe tbody tr th:only-of-type {\n",
       "        vertical-align: middle;\n",
       "    }\n",
       "\n",
       "    .dataframe tbody tr th {\n",
       "        vertical-align: top;\n",
       "    }\n",
       "\n",
       "    .dataframe thead th {\n",
       "        text-align: right;\n",
       "    }\n",
       "</style>\n",
       "<table border=\"1\" class=\"dataframe\">\n",
       "  <thead>\n",
       "    <tr style=\"text-align: right;\">\n",
       "      <th></th>\n",
       "      <th>buyer_id</th>\n",
       "      <th>buyer_country</th>\n",
       "      <th>seller_id</th>\n",
       "      <th>seller_country</th>\n",
       "      <th>product_code</th>\n",
       "      <th>category</th>\n",
       "      <th>brand</th>\n",
       "      <th>currency</th>\n",
       "      <th>price</th>\n",
       "      <th>date</th>\n",
       "    </tr>\n",
       "  </thead>\n",
       "  <tbody>\n",
       "    <tr>\n",
       "      <th>20544</th>\n",
       "      <td>i85n07vjqy</td>\n",
       "      <td>US</td>\n",
       "      <td>pzsiehl0</td>\n",
       "      <td>US</td>\n",
       "      <td>qjdrcwym5i7s</td>\n",
       "      <td>Jewellery</td>\n",
       "      <td>NaN</td>\n",
       "      <td>USD</td>\n",
       "      <td>18.54</td>\n",
       "      <td>2020-08-08</td>\n",
       "    </tr>\n",
       "    <tr>\n",
       "      <th>161600</th>\n",
       "      <td>irvl0ok00g</td>\n",
       "      <td>GB</td>\n",
       "      <td>ru6o8vnx</td>\n",
       "      <td>GB</td>\n",
       "      <td>setwvo0aw0ru</td>\n",
       "      <td>Dresses</td>\n",
       "      <td>NaN</td>\n",
       "      <td>GBP</td>\n",
       "      <td>16.53</td>\n",
       "      <td>2020-08-03</td>\n",
       "    </tr>\n",
       "    <tr>\n",
       "      <th>114929</th>\n",
       "      <td>jaifc3pq9v</td>\n",
       "      <td>GB</td>\n",
       "      <td>c61khj04</td>\n",
       "      <td>GB</td>\n",
       "      <td>44hlutevxnzv</td>\n",
       "      <td>Tops - Womens</td>\n",
       "      <td>NaN</td>\n",
       "      <td>GBP</td>\n",
       "      <td>34.16</td>\n",
       "      <td>2020-08-08</td>\n",
       "    </tr>\n",
       "    <tr>\n",
       "      <th>97840</th>\n",
       "      <td>n0vme9r00z</td>\n",
       "      <td>GB</td>\n",
       "      <td>cs129dfg</td>\n",
       "      <td>GB</td>\n",
       "      <td>a2idmsicfhne</td>\n",
       "      <td>Bottoms - Womens</td>\n",
       "      <td>Topshop</td>\n",
       "      <td>GBP</td>\n",
       "      <td>14.20</td>\n",
       "      <td>2020-08-08</td>\n",
       "    </tr>\n",
       "    <tr>\n",
       "      <th>13624</th>\n",
       "      <td>zfz1y8lqjs</td>\n",
       "      <td>GB</td>\n",
       "      <td>93dom1w1</td>\n",
       "      <td>GB</td>\n",
       "      <td>8v5zc0vgk6qt</td>\n",
       "      <td>Tops - Womens</td>\n",
       "      <td>Topshop</td>\n",
       "      <td>GBP</td>\n",
       "      <td>5.61</td>\n",
       "      <td>2020-08-03</td>\n",
       "    </tr>\n",
       "    <tr>\n",
       "      <th>39519</th>\n",
       "      <td>pzxm49k05h</td>\n",
       "      <td>GB</td>\n",
       "      <td>iew4gst8</td>\n",
       "      <td>GB</td>\n",
       "      <td>z82oldjzvfnm</td>\n",
       "      <td>Jewellery</td>\n",
       "      <td>PANDORA</td>\n",
       "      <td>GBP</td>\n",
       "      <td>15.87</td>\n",
       "      <td>2020-08-07</td>\n",
       "    </tr>\n",
       "    <tr>\n",
       "      <th>196629</th>\n",
       "      <td>x7mfb5s1n1</td>\n",
       "      <td>GB</td>\n",
       "      <td>go2bt9xn</td>\n",
       "      <td>GB</td>\n",
       "      <td>iq6ej7cc0ej8</td>\n",
       "      <td>Jewellery</td>\n",
       "      <td>NaN</td>\n",
       "      <td>GBP</td>\n",
       "      <td>9.06</td>\n",
       "      <td>2020-08-09</td>\n",
       "    </tr>\n",
       "    <tr>\n",
       "      <th>214179</th>\n",
       "      <td>bjt5jqdgp9</td>\n",
       "      <td>US</td>\n",
       "      <td>hprkjjw1</td>\n",
       "      <td>US</td>\n",
       "      <td>l3xobeigh4y1</td>\n",
       "      <td>Dresses</td>\n",
       "      <td>PrettyLittle Thing</td>\n",
       "      <td>USD</td>\n",
       "      <td>16.63</td>\n",
       "      <td>2020-08-03</td>\n",
       "    </tr>\n",
       "    <tr>\n",
       "      <th>113727</th>\n",
       "      <td>ebxth07bhe</td>\n",
       "      <td>GB</td>\n",
       "      <td>8mcwf0wn</td>\n",
       "      <td>GB</td>\n",
       "      <td>ohvmgcjc958l</td>\n",
       "      <td>Bottoms - Mens</td>\n",
       "      <td>Nike</td>\n",
       "      <td>GBP</td>\n",
       "      <td>24.09</td>\n",
       "      <td>2020-08-05</td>\n",
       "    </tr>\n",
       "    <tr>\n",
       "      <th>199</th>\n",
       "      <td>5hu2pcfpxy</td>\n",
       "      <td>GB</td>\n",
       "      <td>scikolkp</td>\n",
       "      <td>GB</td>\n",
       "      <td>65h8gh11b5dq</td>\n",
       "      <td>Jewellery</td>\n",
       "      <td>NaN</td>\n",
       "      <td>GBP</td>\n",
       "      <td>4.30</td>\n",
       "      <td>2020-08-04</td>\n",
       "    </tr>\n",
       "  </tbody>\n",
       "</table>\n",
       "</div>"
      ],
      "text/plain": [
       "          buyer_id buyer_country seller_id seller_country  product_code  \\\n",
       "20544   i85n07vjqy            US  pzsiehl0             US  qjdrcwym5i7s   \n",
       "161600  irvl0ok00g            GB  ru6o8vnx             GB  setwvo0aw0ru   \n",
       "114929  jaifc3pq9v            GB  c61khj04             GB  44hlutevxnzv   \n",
       "97840   n0vme9r00z            GB  cs129dfg             GB  a2idmsicfhne   \n",
       "13624   zfz1y8lqjs            GB  93dom1w1             GB  8v5zc0vgk6qt   \n",
       "39519   pzxm49k05h            GB  iew4gst8             GB  z82oldjzvfnm   \n",
       "196629  x7mfb5s1n1            GB  go2bt9xn             GB  iq6ej7cc0ej8   \n",
       "214179  bjt5jqdgp9            US  hprkjjw1             US  l3xobeigh4y1   \n",
       "113727  ebxth07bhe            GB  8mcwf0wn             GB  ohvmgcjc958l   \n",
       "199     5hu2pcfpxy            GB  scikolkp             GB  65h8gh11b5dq   \n",
       "\n",
       "                category               brand currency  price        date  \n",
       "20544          Jewellery                 NaN      USD  18.54  2020-08-08  \n",
       "161600           Dresses                 NaN      GBP  16.53  2020-08-03  \n",
       "114929     Tops - Womens                 NaN      GBP  34.16  2020-08-08  \n",
       "97840   Bottoms - Womens             Topshop      GBP  14.20  2020-08-08  \n",
       "13624      Tops - Womens             Topshop      GBP   5.61  2020-08-03  \n",
       "39519          Jewellery             PANDORA      GBP  15.87  2020-08-07  \n",
       "196629         Jewellery                 NaN      GBP   9.06  2020-08-09  \n",
       "214179           Dresses  PrettyLittle Thing      USD  16.63  2020-08-03  \n",
       "113727    Bottoms - Mens                Nike      GBP  24.09  2020-08-05  \n",
       "199            Jewellery                 NaN      GBP   4.30  2020-08-04  "
      ]
     },
     "execution_count": 7,
     "metadata": {},
     "output_type": "execute_result"
    }
   ],
   "source": [
    "df_sales.sample(10)"
   ]
  },
  {
   "cell_type": "code",
   "execution_count": 8,
   "id": "a381b979",
   "metadata": {},
   "outputs": [
    {
     "data": {
      "text/plain": [
       "buyer_id          139700\n",
       "buyer_country          9\n",
       "seller_id         114227\n",
       "seller_country         9\n",
       "product_code      226311\n",
       "category              24\n",
       "brand               1134\n",
       "currency              22\n",
       "price              15336\n",
       "date                   7\n",
       "dtype: int64"
      ]
     },
     "execution_count": 8,
     "metadata": {},
     "output_type": "execute_result"
    }
   ],
   "source": [
    "df_sales.nunique()"
   ]
  },
  {
   "cell_type": "code",
   "execution_count": 9,
   "id": "d72e3b03",
   "metadata": {},
   "outputs": [
    {
     "data": {
      "text/plain": [
       "array(['GB', 'IE', 'US', 'AU', 'DE', 'RoW', 'CA', 'IT', 'FR'],\n",
       "      dtype=object)"
      ]
     },
     "execution_count": 9,
     "metadata": {},
     "output_type": "execute_result"
    }
   ],
   "source": [
    "df_sales[\"buyer_country\"].unique()"
   ]
  },
  {
   "cell_type": "code",
   "execution_count": 10,
   "id": "613a719c",
   "metadata": {},
   "outputs": [
    {
     "data": {
      "text/plain": [
       "0    2020-08-03\n",
       "1    2020-08-09\n",
       "2    2020-08-07\n",
       "3    2020-08-09\n",
       "4    2020-08-09\n",
       "Name: date, dtype: object"
      ]
     },
     "execution_count": 10,
     "metadata": {},
     "output_type": "execute_result"
    }
   ],
   "source": [
    "df_sales.date.head() # date column data type is 'object', need to convert to 'datetime'"
   ]
  },
  {
   "cell_type": "code",
   "execution_count": 11,
   "id": "a0f48cf6",
   "metadata": {},
   "outputs": [],
   "source": [
    "df_sales.date = pd.to_datetime(df_sales.date)"
   ]
  },
  {
   "cell_type": "code",
   "execution_count": 12,
   "id": "c651c418",
   "metadata": {},
   "outputs": [
    {
     "data": {
      "text/plain": [
       "0   2020-08-03\n",
       "1   2020-08-09\n",
       "2   2020-08-07\n",
       "3   2020-08-09\n",
       "4   2020-08-09\n",
       "Name: date, dtype: datetime64[ns]"
      ]
     },
     "execution_count": 12,
     "metadata": {},
     "output_type": "execute_result"
    }
   ],
   "source": [
    "df_sales.date.head() # checking"
   ]
  },
  {
   "cell_type": "code",
   "execution_count": 13,
   "id": "38b932f4",
   "metadata": {},
   "outputs": [
    {
     "data": {
      "text/html": [
       "<div>\n",
       "<style scoped>\n",
       "    .dataframe tbody tr th:only-of-type {\n",
       "        vertical-align: middle;\n",
       "    }\n",
       "\n",
       "    .dataframe tbody tr th {\n",
       "        vertical-align: top;\n",
       "    }\n",
       "\n",
       "    .dataframe thead th {\n",
       "        text-align: right;\n",
       "    }\n",
       "</style>\n",
       "<table border=\"1\" class=\"dataframe\">\n",
       "  <thead>\n",
       "    <tr style=\"text-align: right;\">\n",
       "      <th></th>\n",
       "      <th>currency</th>\n",
       "      <th>date</th>\n",
       "      <th>rate</th>\n",
       "    </tr>\n",
       "  </thead>\n",
       "  <tbody>\n",
       "    <tr>\n",
       "      <th>0</th>\n",
       "      <td>EUR</td>\n",
       "      <td>8/1/2020</td>\n",
       "      <td>1.0</td>\n",
       "    </tr>\n",
       "    <tr>\n",
       "      <th>1</th>\n",
       "      <td>EUR</td>\n",
       "      <td>8/2/2020</td>\n",
       "      <td>1.0</td>\n",
       "    </tr>\n",
       "    <tr>\n",
       "      <th>2</th>\n",
       "      <td>EUR</td>\n",
       "      <td>8/3/2020</td>\n",
       "      <td>1.0</td>\n",
       "    </tr>\n",
       "    <tr>\n",
       "      <th>3</th>\n",
       "      <td>EUR</td>\n",
       "      <td>8/4/2020</td>\n",
       "      <td>1.0</td>\n",
       "    </tr>\n",
       "    <tr>\n",
       "      <th>4</th>\n",
       "      <td>EUR</td>\n",
       "      <td>8/5/2020</td>\n",
       "      <td>1.0</td>\n",
       "    </tr>\n",
       "  </tbody>\n",
       "</table>\n",
       "</div>"
      ],
      "text/plain": [
       "  currency      date  rate\n",
       "0      EUR  8/1/2020   1.0\n",
       "1      EUR  8/2/2020   1.0\n",
       "2      EUR  8/3/2020   1.0\n",
       "3      EUR  8/4/2020   1.0\n",
       "4      EUR  8/5/2020   1.0"
      ]
     },
     "execution_count": 13,
     "metadata": {},
     "output_type": "execute_result"
    }
   ],
   "source": [
    "# create dataframe of currency\n",
    "\n",
    "df_curr0 = pd.read_csv('currency_rates_082020_EUR.csv')\n",
    "df_curr = df_curr0.copy()\n",
    "df_curr.head()"
   ]
  },
  {
   "cell_type": "code",
   "execution_count": 14,
   "id": "fe37dc1b",
   "metadata": {},
   "outputs": [
    {
     "data": {
      "text/plain": [
       "currency    0\n",
       "date        0\n",
       "rate        0\n",
       "dtype: int64"
      ]
     },
     "execution_count": 14,
     "metadata": {},
     "output_type": "execute_result"
    }
   ],
   "source": [
    "df_curr.isnull().sum()"
   ]
  },
  {
   "cell_type": "code",
   "execution_count": 15,
   "id": "8a0e30ab",
   "metadata": {},
   "outputs": [
    {
     "data": {
      "text/plain": [
       "False    220\n",
       "dtype: int64"
      ]
     },
     "execution_count": 15,
     "metadata": {},
     "output_type": "execute_result"
    }
   ],
   "source": [
    "df_curr.duplicated().value_counts()"
   ]
  },
  {
   "cell_type": "code",
   "execution_count": 16,
   "id": "ea9842a0",
   "metadata": {},
   "outputs": [
    {
     "data": {
      "text/plain": [
       "0    8/1/2020\n",
       "1    8/2/2020\n",
       "2    8/3/2020\n",
       "3    8/4/2020\n",
       "4    8/5/2020\n",
       "Name: date, dtype: object"
      ]
     },
     "execution_count": 16,
     "metadata": {},
     "output_type": "execute_result"
    }
   ],
   "source": [
    "df_curr.date.head()  # date column data type is 'object', need to convert to 'datetime'"
   ]
  },
  {
   "cell_type": "code",
   "execution_count": 17,
   "id": "14a1a7d3",
   "metadata": {},
   "outputs": [],
   "source": [
    "df_curr.date = pd.to_datetime(df_curr.date)"
   ]
  },
  {
   "cell_type": "code",
   "execution_count": 18,
   "id": "a47dfe76",
   "metadata": {},
   "outputs": [
    {
     "data": {
      "text/plain": [
       "0   2020-08-01\n",
       "1   2020-08-02\n",
       "2   2020-08-03\n",
       "3   2020-08-04\n",
       "4   2020-08-05\n",
       "Name: date, dtype: datetime64[ns]"
      ]
     },
     "execution_count": 18,
     "metadata": {},
     "output_type": "execute_result"
    }
   ],
   "source": [
    "df_curr.date.head() # checking"
   ]
  },
  {
   "cell_type": "code",
   "execution_count": 19,
   "id": "3e0c5667",
   "metadata": {},
   "outputs": [
    {
     "data": {
      "text/html": [
       "<div>\n",
       "<style scoped>\n",
       "    .dataframe tbody tr th:only-of-type {\n",
       "        vertical-align: middle;\n",
       "    }\n",
       "\n",
       "    .dataframe tbody tr th {\n",
       "        vertical-align: top;\n",
       "    }\n",
       "\n",
       "    .dataframe thead th {\n",
       "        text-align: right;\n",
       "    }\n",
       "</style>\n",
       "<table border=\"1\" class=\"dataframe\">\n",
       "  <thead>\n",
       "    <tr style=\"text-align: right;\">\n",
       "      <th></th>\n",
       "      <th>buyer_id</th>\n",
       "      <th>buyer_country</th>\n",
       "      <th>seller_id</th>\n",
       "      <th>seller_country</th>\n",
       "      <th>product_code</th>\n",
       "      <th>category</th>\n",
       "      <th>brand</th>\n",
       "      <th>currency</th>\n",
       "      <th>price</th>\n",
       "      <th>date</th>\n",
       "    </tr>\n",
       "  </thead>\n",
       "  <tbody>\n",
       "    <tr>\n",
       "      <th>0</th>\n",
       "      <td>qzpjsi9t0o</td>\n",
       "      <td>GB</td>\n",
       "      <td>6oufpaot</td>\n",
       "      <td>GB</td>\n",
       "      <td>ydecnydr6obf</td>\n",
       "      <td>Dresses</td>\n",
       "      <td>NaN</td>\n",
       "      <td>GBP</td>\n",
       "      <td>19.11</td>\n",
       "      <td>2020-08-03</td>\n",
       "    </tr>\n",
       "    <tr>\n",
       "      <th>1</th>\n",
       "      <td>o79pns1qwo</td>\n",
       "      <td>GB</td>\n",
       "      <td>50xki2yg</td>\n",
       "      <td>GB</td>\n",
       "      <td>38chj507o6h2</td>\n",
       "      <td>Outerwear</td>\n",
       "      <td>Adidas Originals</td>\n",
       "      <td>GBP</td>\n",
       "      <td>15.92</td>\n",
       "      <td>2020-08-09</td>\n",
       "    </tr>\n",
       "    <tr>\n",
       "      <th>2</th>\n",
       "      <td>sjgbjdkhqx</td>\n",
       "      <td>GB</td>\n",
       "      <td>50xki2yg</td>\n",
       "      <td>GB</td>\n",
       "      <td>i9ynyxj5tdp8</td>\n",
       "      <td>Tops - Mens</td>\n",
       "      <td>NaN</td>\n",
       "      <td>GBP</td>\n",
       "      <td>6.37</td>\n",
       "      <td>2020-08-07</td>\n",
       "    </tr>\n",
       "    <tr>\n",
       "      <th>3</th>\n",
       "      <td>o79pns1qwo</td>\n",
       "      <td>GB</td>\n",
       "      <td>s0p322hh</td>\n",
       "      <td>GB</td>\n",
       "      <td>t50xe7moye8v</td>\n",
       "      <td>Tops - Mens</td>\n",
       "      <td>Berghaus</td>\n",
       "      <td>GBP</td>\n",
       "      <td>25.27</td>\n",
       "      <td>2020-08-09</td>\n",
       "    </tr>\n",
       "    <tr>\n",
       "      <th>4</th>\n",
       "      <td>o79pns1qwo</td>\n",
       "      <td>GB</td>\n",
       "      <td>dpkx192v</td>\n",
       "      <td>GB</td>\n",
       "      <td>hp4r9bjq68af</td>\n",
       "      <td>Bottoms - Womens</td>\n",
       "      <td>NaN</td>\n",
       "      <td>GBP</td>\n",
       "      <td>8.90</td>\n",
       "      <td>2020-08-09</td>\n",
       "    </tr>\n",
       "  </tbody>\n",
       "</table>\n",
       "</div>"
      ],
      "text/plain": [
       "     buyer_id buyer_country seller_id seller_country  product_code  \\\n",
       "0  qzpjsi9t0o            GB  6oufpaot             GB  ydecnydr6obf   \n",
       "1  o79pns1qwo            GB  50xki2yg             GB  38chj507o6h2   \n",
       "2  sjgbjdkhqx            GB  50xki2yg             GB  i9ynyxj5tdp8   \n",
       "3  o79pns1qwo            GB  s0p322hh             GB  t50xe7moye8v   \n",
       "4  o79pns1qwo            GB  dpkx192v             GB  hp4r9bjq68af   \n",
       "\n",
       "           category             brand currency  price       date  \n",
       "0           Dresses               NaN      GBP  19.11 2020-08-03  \n",
       "1         Outerwear  Adidas Originals      GBP  15.92 2020-08-09  \n",
       "2       Tops - Mens               NaN      GBP   6.37 2020-08-07  \n",
       "3       Tops - Mens          Berghaus      GBP  25.27 2020-08-09  \n",
       "4  Bottoms - Womens               NaN      GBP   8.90 2020-08-09  "
      ]
     },
     "execution_count": 19,
     "metadata": {},
     "output_type": "execute_result"
    }
   ],
   "source": [
    "df_sales.head()"
   ]
  },
  {
   "cell_type": "code",
   "execution_count": 20,
   "id": "c0e674df",
   "metadata": {},
   "outputs": [
    {
     "data": {
      "text/html": [
       "<div>\n",
       "<style scoped>\n",
       "    .dataframe tbody tr th:only-of-type {\n",
       "        vertical-align: middle;\n",
       "    }\n",
       "\n",
       "    .dataframe tbody tr th {\n",
       "        vertical-align: top;\n",
       "    }\n",
       "\n",
       "    .dataframe thead th {\n",
       "        text-align: right;\n",
       "    }\n",
       "</style>\n",
       "<table border=\"1\" class=\"dataframe\">\n",
       "  <thead>\n",
       "    <tr style=\"text-align: right;\">\n",
       "      <th></th>\n",
       "      <th>currency</th>\n",
       "      <th>date</th>\n",
       "      <th>rate</th>\n",
       "    </tr>\n",
       "  </thead>\n",
       "  <tbody>\n",
       "    <tr>\n",
       "      <th>0</th>\n",
       "      <td>EUR</td>\n",
       "      <td>2020-08-01</td>\n",
       "      <td>1.0</td>\n",
       "    </tr>\n",
       "    <tr>\n",
       "      <th>1</th>\n",
       "      <td>EUR</td>\n",
       "      <td>2020-08-02</td>\n",
       "      <td>1.0</td>\n",
       "    </tr>\n",
       "    <tr>\n",
       "      <th>2</th>\n",
       "      <td>EUR</td>\n",
       "      <td>2020-08-03</td>\n",
       "      <td>1.0</td>\n",
       "    </tr>\n",
       "    <tr>\n",
       "      <th>3</th>\n",
       "      <td>EUR</td>\n",
       "      <td>2020-08-04</td>\n",
       "      <td>1.0</td>\n",
       "    </tr>\n",
       "    <tr>\n",
       "      <th>4</th>\n",
       "      <td>EUR</td>\n",
       "      <td>2020-08-05</td>\n",
       "      <td>1.0</td>\n",
       "    </tr>\n",
       "  </tbody>\n",
       "</table>\n",
       "</div>"
      ],
      "text/plain": [
       "  currency       date  rate\n",
       "0      EUR 2020-08-01   1.0\n",
       "1      EUR 2020-08-02   1.0\n",
       "2      EUR 2020-08-03   1.0\n",
       "3      EUR 2020-08-04   1.0\n",
       "4      EUR 2020-08-05   1.0"
      ]
     },
     "execution_count": 20,
     "metadata": {},
     "output_type": "execute_result"
    }
   ],
   "source": [
    "df_curr.head()"
   ]
  },
  {
   "cell_type": "code",
   "execution_count": 21,
   "id": "c9451ff8",
   "metadata": {},
   "outputs": [
    {
     "data": {
      "text/html": [
       "<div>\n",
       "<style scoped>\n",
       "    .dataframe tbody tr th:only-of-type {\n",
       "        vertical-align: middle;\n",
       "    }\n",
       "\n",
       "    .dataframe tbody tr th {\n",
       "        vertical-align: top;\n",
       "    }\n",
       "\n",
       "    .dataframe thead th {\n",
       "        text-align: right;\n",
       "    }\n",
       "</style>\n",
       "<table border=\"1\" class=\"dataframe\">\n",
       "  <thead>\n",
       "    <tr style=\"text-align: right;\">\n",
       "      <th></th>\n",
       "      <th>buyer_id</th>\n",
       "      <th>buyer_country</th>\n",
       "      <th>seller_id</th>\n",
       "      <th>seller_country</th>\n",
       "      <th>product_code</th>\n",
       "      <th>category</th>\n",
       "      <th>brand</th>\n",
       "      <th>currency</th>\n",
       "      <th>price</th>\n",
       "      <th>date</th>\n",
       "      <th>rate</th>\n",
       "    </tr>\n",
       "  </thead>\n",
       "  <tbody>\n",
       "    <tr>\n",
       "      <th>0</th>\n",
       "      <td>qzpjsi9t0o</td>\n",
       "      <td>GB</td>\n",
       "      <td>6oufpaot</td>\n",
       "      <td>GB</td>\n",
       "      <td>ydecnydr6obf</td>\n",
       "      <td>Dresses</td>\n",
       "      <td>NaN</td>\n",
       "      <td>GBP</td>\n",
       "      <td>19.11</td>\n",
       "      <td>2020-08-03</td>\n",
       "      <td>0.89935</td>\n",
       "    </tr>\n",
       "    <tr>\n",
       "      <th>1</th>\n",
       "      <td>rd209r8c7c</td>\n",
       "      <td>GB</td>\n",
       "      <td>9p2ansc9</td>\n",
       "      <td>GB</td>\n",
       "      <td>wpxxf59cq7pc</td>\n",
       "      <td>Outerwear - Mens</td>\n",
       "      <td>Adidas Originals</td>\n",
       "      <td>GBP</td>\n",
       "      <td>24.91</td>\n",
       "      <td>2020-08-03</td>\n",
       "      <td>0.89935</td>\n",
       "    </tr>\n",
       "    <tr>\n",
       "      <th>2</th>\n",
       "      <td>pqbcrl8azx</td>\n",
       "      <td>GB</td>\n",
       "      <td>r9zmzem8</td>\n",
       "      <td>GB</td>\n",
       "      <td>ua9mmn86wsqy</td>\n",
       "      <td>Tops - Womens</td>\n",
       "      <td>NaN</td>\n",
       "      <td>GBP</td>\n",
       "      <td>19.31</td>\n",
       "      <td>2020-08-03</td>\n",
       "      <td>0.89935</td>\n",
       "    </tr>\n",
       "    <tr>\n",
       "      <th>3</th>\n",
       "      <td>j5en1rwmxp</td>\n",
       "      <td>GB</td>\n",
       "      <td>3o2nz88r</td>\n",
       "      <td>GB</td>\n",
       "      <td>tduo2uy8iszl</td>\n",
       "      <td>Bottoms - Womens</td>\n",
       "      <td>Urban Outfitters</td>\n",
       "      <td>GBP</td>\n",
       "      <td>16.98</td>\n",
       "      <td>2020-08-03</td>\n",
       "      <td>0.89935</td>\n",
       "    </tr>\n",
       "    <tr>\n",
       "      <th>4</th>\n",
       "      <td>kjdezxeh1l</td>\n",
       "      <td>GB</td>\n",
       "      <td>7g56ublf</td>\n",
       "      <td>GB</td>\n",
       "      <td>39o00tcu89zq</td>\n",
       "      <td>Other</td>\n",
       "      <td>NaN</td>\n",
       "      <td>GBP</td>\n",
       "      <td>2.85</td>\n",
       "      <td>2020-08-03</td>\n",
       "      <td>0.89935</td>\n",
       "    </tr>\n",
       "    <tr>\n",
       "      <th>...</th>\n",
       "      <td>...</td>\n",
       "      <td>...</td>\n",
       "      <td>...</td>\n",
       "      <td>...</td>\n",
       "      <td>...</td>\n",
       "      <td>...</td>\n",
       "      <td>...</td>\n",
       "      <td>...</td>\n",
       "      <td>...</td>\n",
       "      <td>...</td>\n",
       "      <td>...</td>\n",
       "    </tr>\n",
       "    <tr>\n",
       "      <th>237626</th>\n",
       "      <td>d7dx6f3qv7</td>\n",
       "      <td>RoW</td>\n",
       "      <td>e2p108mu</td>\n",
       "      <td>RoW</td>\n",
       "      <td>nan9a4p10ayk</td>\n",
       "      <td>Tops - Mens</td>\n",
       "      <td>NaN</td>\n",
       "      <td>PLN</td>\n",
       "      <td>4.24</td>\n",
       "      <td>2020-08-04</td>\n",
       "      <td>4.39693</td>\n",
       "    </tr>\n",
       "    <tr>\n",
       "      <th>237627</th>\n",
       "      <td>iaf2ck3rj6</td>\n",
       "      <td>IT</td>\n",
       "      <td>gjb1qntq</td>\n",
       "      <td>RoW</td>\n",
       "      <td>lxj477q1hab2</td>\n",
       "      <td>Accessories</td>\n",
       "      <td>NaN</td>\n",
       "      <td>CZK</td>\n",
       "      <td>3923.18</td>\n",
       "      <td>2020-08-04</td>\n",
       "      <td>26.12360</td>\n",
       "    </tr>\n",
       "    <tr>\n",
       "      <th>237628</th>\n",
       "      <td>tucgt70cwc</td>\n",
       "      <td>AU</td>\n",
       "      <td>9adnlxvr</td>\n",
       "      <td>RoW</td>\n",
       "      <td>2g0g0obhwjuc</td>\n",
       "      <td>Jewellery</td>\n",
       "      <td>NaN</td>\n",
       "      <td>PLN</td>\n",
       "      <td>525.82</td>\n",
       "      <td>2020-08-09</td>\n",
       "      <td>4.41427</td>\n",
       "    </tr>\n",
       "    <tr>\n",
       "      <th>237629</th>\n",
       "      <td>rrfjxzbdxu</td>\n",
       "      <td>US</td>\n",
       "      <td>w2pozh7u</td>\n",
       "      <td>US</td>\n",
       "      <td>5mm5eg99xbu2</td>\n",
       "      <td>Bottoms - Womens</td>\n",
       "      <td>Brandy Melville</td>\n",
       "      <td>BRL</td>\n",
       "      <td>34.92</td>\n",
       "      <td>2020-08-06</td>\n",
       "      <td>6.33240</td>\n",
       "    </tr>\n",
       "    <tr>\n",
       "      <th>237630</th>\n",
       "      <td>wnmihth4io</td>\n",
       "      <td>GB</td>\n",
       "      <td>5yogzc17</td>\n",
       "      <td>RoW</td>\n",
       "      <td>wrgq88ujwh5d</td>\n",
       "      <td>Bottoms - Womens</td>\n",
       "      <td>NaN</td>\n",
       "      <td>NOK</td>\n",
       "      <td>533.06</td>\n",
       "      <td>2020-08-08</td>\n",
       "      <td>10.64540</td>\n",
       "    </tr>\n",
       "  </tbody>\n",
       "</table>\n",
       "<p>237631 rows × 11 columns</p>\n",
       "</div>"
      ],
      "text/plain": [
       "          buyer_id buyer_country seller_id seller_country  product_code  \\\n",
       "0       qzpjsi9t0o            GB  6oufpaot             GB  ydecnydr6obf   \n",
       "1       rd209r8c7c            GB  9p2ansc9             GB  wpxxf59cq7pc   \n",
       "2       pqbcrl8azx            GB  r9zmzem8             GB  ua9mmn86wsqy   \n",
       "3       j5en1rwmxp            GB  3o2nz88r             GB  tduo2uy8iszl   \n",
       "4       kjdezxeh1l            GB  7g56ublf             GB  39o00tcu89zq   \n",
       "...            ...           ...       ...            ...           ...   \n",
       "237626  d7dx6f3qv7           RoW  e2p108mu            RoW  nan9a4p10ayk   \n",
       "237627  iaf2ck3rj6            IT  gjb1qntq            RoW  lxj477q1hab2   \n",
       "237628  tucgt70cwc            AU  9adnlxvr            RoW  2g0g0obhwjuc   \n",
       "237629  rrfjxzbdxu            US  w2pozh7u             US  5mm5eg99xbu2   \n",
       "237630  wnmihth4io            GB  5yogzc17            RoW  wrgq88ujwh5d   \n",
       "\n",
       "                category             brand currency    price       date  \\\n",
       "0                Dresses               NaN      GBP    19.11 2020-08-03   \n",
       "1       Outerwear - Mens  Adidas Originals      GBP    24.91 2020-08-03   \n",
       "2          Tops - Womens               NaN      GBP    19.31 2020-08-03   \n",
       "3       Bottoms - Womens  Urban Outfitters      GBP    16.98 2020-08-03   \n",
       "4                  Other               NaN      GBP     2.85 2020-08-03   \n",
       "...                  ...               ...      ...      ...        ...   \n",
       "237626       Tops - Mens               NaN      PLN     4.24 2020-08-04   \n",
       "237627       Accessories               NaN      CZK  3923.18 2020-08-04   \n",
       "237628         Jewellery               NaN      PLN   525.82 2020-08-09   \n",
       "237629  Bottoms - Womens   Brandy Melville      BRL    34.92 2020-08-06   \n",
       "237630  Bottoms - Womens               NaN      NOK   533.06 2020-08-08   \n",
       "\n",
       "            rate  \n",
       "0        0.89935  \n",
       "1        0.89935  \n",
       "2        0.89935  \n",
       "3        0.89935  \n",
       "4        0.89935  \n",
       "...          ...  \n",
       "237626   4.39693  \n",
       "237627  26.12360  \n",
       "237628   4.41427  \n",
       "237629   6.33240  \n",
       "237630  10.64540  \n",
       "\n",
       "[237631 rows x 11 columns]"
      ]
     },
     "execution_count": 21,
     "metadata": {},
     "output_type": "execute_result"
    }
   ],
   "source": [
    "# merge two dataframes\n",
    "\n",
    "df_new = pd.merge(df_sales, df_curr, on=[\"date\", \"currency\"])\n",
    "\n",
    "df_new"
   ]
  },
  {
   "cell_type": "code",
   "execution_count": 22,
   "id": "d0ae274d",
   "metadata": {},
   "outputs": [
    {
     "data": {
      "text/html": [
       "<div>\n",
       "<style scoped>\n",
       "    .dataframe tbody tr th:only-of-type {\n",
       "        vertical-align: middle;\n",
       "    }\n",
       "\n",
       "    .dataframe tbody tr th {\n",
       "        vertical-align: top;\n",
       "    }\n",
       "\n",
       "    .dataframe thead th {\n",
       "        text-align: right;\n",
       "    }\n",
       "</style>\n",
       "<table border=\"1\" class=\"dataframe\">\n",
       "  <thead>\n",
       "    <tr style=\"text-align: right;\">\n",
       "      <th></th>\n",
       "      <th>buyer_id</th>\n",
       "      <th>buyer_country</th>\n",
       "      <th>seller_id</th>\n",
       "      <th>seller_country</th>\n",
       "      <th>product_code</th>\n",
       "      <th>category</th>\n",
       "      <th>brand</th>\n",
       "      <th>currency</th>\n",
       "      <th>price</th>\n",
       "      <th>date</th>\n",
       "      <th>rate</th>\n",
       "      <th>total</th>\n",
       "    </tr>\n",
       "  </thead>\n",
       "  <tbody>\n",
       "    <tr>\n",
       "      <th>0</th>\n",
       "      <td>qzpjsi9t0o</td>\n",
       "      <td>GB</td>\n",
       "      <td>6oufpaot</td>\n",
       "      <td>GB</td>\n",
       "      <td>ydecnydr6obf</td>\n",
       "      <td>Dresses</td>\n",
       "      <td>NaN</td>\n",
       "      <td>GBP</td>\n",
       "      <td>19.11</td>\n",
       "      <td>2020-08-03</td>\n",
       "      <td>0.89935</td>\n",
       "      <td>21.248680</td>\n",
       "    </tr>\n",
       "    <tr>\n",
       "      <th>1</th>\n",
       "      <td>rd209r8c7c</td>\n",
       "      <td>GB</td>\n",
       "      <td>9p2ansc9</td>\n",
       "      <td>GB</td>\n",
       "      <td>wpxxf59cq7pc</td>\n",
       "      <td>Outerwear - Mens</td>\n",
       "      <td>Adidas Originals</td>\n",
       "      <td>GBP</td>\n",
       "      <td>24.91</td>\n",
       "      <td>2020-08-03</td>\n",
       "      <td>0.89935</td>\n",
       "      <td>27.697782</td>\n",
       "    </tr>\n",
       "    <tr>\n",
       "      <th>2</th>\n",
       "      <td>pqbcrl8azx</td>\n",
       "      <td>GB</td>\n",
       "      <td>r9zmzem8</td>\n",
       "      <td>GB</td>\n",
       "      <td>ua9mmn86wsqy</td>\n",
       "      <td>Tops - Womens</td>\n",
       "      <td>NaN</td>\n",
       "      <td>GBP</td>\n",
       "      <td>19.31</td>\n",
       "      <td>2020-08-03</td>\n",
       "      <td>0.89935</td>\n",
       "      <td>21.471062</td>\n",
       "    </tr>\n",
       "    <tr>\n",
       "      <th>3</th>\n",
       "      <td>j5en1rwmxp</td>\n",
       "      <td>GB</td>\n",
       "      <td>3o2nz88r</td>\n",
       "      <td>GB</td>\n",
       "      <td>tduo2uy8iszl</td>\n",
       "      <td>Bottoms - Womens</td>\n",
       "      <td>Urban Outfitters</td>\n",
       "      <td>GBP</td>\n",
       "      <td>16.98</td>\n",
       "      <td>2020-08-03</td>\n",
       "      <td>0.89935</td>\n",
       "      <td>18.880302</td>\n",
       "    </tr>\n",
       "    <tr>\n",
       "      <th>4</th>\n",
       "      <td>kjdezxeh1l</td>\n",
       "      <td>GB</td>\n",
       "      <td>7g56ublf</td>\n",
       "      <td>GB</td>\n",
       "      <td>39o00tcu89zq</td>\n",
       "      <td>Other</td>\n",
       "      <td>NaN</td>\n",
       "      <td>GBP</td>\n",
       "      <td>2.85</td>\n",
       "      <td>2020-08-03</td>\n",
       "      <td>0.89935</td>\n",
       "      <td>3.168955</td>\n",
       "    </tr>\n",
       "    <tr>\n",
       "      <th>...</th>\n",
       "      <td>...</td>\n",
       "      <td>...</td>\n",
       "      <td>...</td>\n",
       "      <td>...</td>\n",
       "      <td>...</td>\n",
       "      <td>...</td>\n",
       "      <td>...</td>\n",
       "      <td>...</td>\n",
       "      <td>...</td>\n",
       "      <td>...</td>\n",
       "      <td>...</td>\n",
       "      <td>...</td>\n",
       "    </tr>\n",
       "    <tr>\n",
       "      <th>237626</th>\n",
       "      <td>d7dx6f3qv7</td>\n",
       "      <td>RoW</td>\n",
       "      <td>e2p108mu</td>\n",
       "      <td>RoW</td>\n",
       "      <td>nan9a4p10ayk</td>\n",
       "      <td>Tops - Mens</td>\n",
       "      <td>NaN</td>\n",
       "      <td>PLN</td>\n",
       "      <td>4.24</td>\n",
       "      <td>2020-08-04</td>\n",
       "      <td>4.39693</td>\n",
       "      <td>0.964309</td>\n",
       "    </tr>\n",
       "    <tr>\n",
       "      <th>237627</th>\n",
       "      <td>iaf2ck3rj6</td>\n",
       "      <td>IT</td>\n",
       "      <td>gjb1qntq</td>\n",
       "      <td>RoW</td>\n",
       "      <td>lxj477q1hab2</td>\n",
       "      <td>Accessories</td>\n",
       "      <td>NaN</td>\n",
       "      <td>CZK</td>\n",
       "      <td>3923.18</td>\n",
       "      <td>2020-08-04</td>\n",
       "      <td>26.12360</td>\n",
       "      <td>150.177617</td>\n",
       "    </tr>\n",
       "    <tr>\n",
       "      <th>237628</th>\n",
       "      <td>tucgt70cwc</td>\n",
       "      <td>AU</td>\n",
       "      <td>9adnlxvr</td>\n",
       "      <td>RoW</td>\n",
       "      <td>2g0g0obhwjuc</td>\n",
       "      <td>Jewellery</td>\n",
       "      <td>NaN</td>\n",
       "      <td>PLN</td>\n",
       "      <td>525.82</td>\n",
       "      <td>2020-08-09</td>\n",
       "      <td>4.41427</td>\n",
       "      <td>119.118223</td>\n",
       "    </tr>\n",
       "    <tr>\n",
       "      <th>237629</th>\n",
       "      <td>rrfjxzbdxu</td>\n",
       "      <td>US</td>\n",
       "      <td>w2pozh7u</td>\n",
       "      <td>US</td>\n",
       "      <td>5mm5eg99xbu2</td>\n",
       "      <td>Bottoms - Womens</td>\n",
       "      <td>Brandy Melville</td>\n",
       "      <td>BRL</td>\n",
       "      <td>34.92</td>\n",
       "      <td>2020-08-06</td>\n",
       "      <td>6.33240</td>\n",
       "      <td>5.514497</td>\n",
       "    </tr>\n",
       "    <tr>\n",
       "      <th>237630</th>\n",
       "      <td>wnmihth4io</td>\n",
       "      <td>GB</td>\n",
       "      <td>5yogzc17</td>\n",
       "      <td>RoW</td>\n",
       "      <td>wrgq88ujwh5d</td>\n",
       "      <td>Bottoms - Womens</td>\n",
       "      <td>NaN</td>\n",
       "      <td>NOK</td>\n",
       "      <td>533.06</td>\n",
       "      <td>2020-08-08</td>\n",
       "      <td>10.64540</td>\n",
       "      <td>50.074210</td>\n",
       "    </tr>\n",
       "  </tbody>\n",
       "</table>\n",
       "<p>237631 rows × 12 columns</p>\n",
       "</div>"
      ],
      "text/plain": [
       "          buyer_id buyer_country seller_id seller_country  product_code  \\\n",
       "0       qzpjsi9t0o            GB  6oufpaot             GB  ydecnydr6obf   \n",
       "1       rd209r8c7c            GB  9p2ansc9             GB  wpxxf59cq7pc   \n",
       "2       pqbcrl8azx            GB  r9zmzem8             GB  ua9mmn86wsqy   \n",
       "3       j5en1rwmxp            GB  3o2nz88r             GB  tduo2uy8iszl   \n",
       "4       kjdezxeh1l            GB  7g56ublf             GB  39o00tcu89zq   \n",
       "...            ...           ...       ...            ...           ...   \n",
       "237626  d7dx6f3qv7           RoW  e2p108mu            RoW  nan9a4p10ayk   \n",
       "237627  iaf2ck3rj6            IT  gjb1qntq            RoW  lxj477q1hab2   \n",
       "237628  tucgt70cwc            AU  9adnlxvr            RoW  2g0g0obhwjuc   \n",
       "237629  rrfjxzbdxu            US  w2pozh7u             US  5mm5eg99xbu2   \n",
       "237630  wnmihth4io            GB  5yogzc17            RoW  wrgq88ujwh5d   \n",
       "\n",
       "                category             brand currency    price       date  \\\n",
       "0                Dresses               NaN      GBP    19.11 2020-08-03   \n",
       "1       Outerwear - Mens  Adidas Originals      GBP    24.91 2020-08-03   \n",
       "2          Tops - Womens               NaN      GBP    19.31 2020-08-03   \n",
       "3       Bottoms - Womens  Urban Outfitters      GBP    16.98 2020-08-03   \n",
       "4                  Other               NaN      GBP     2.85 2020-08-03   \n",
       "...                  ...               ...      ...      ...        ...   \n",
       "237626       Tops - Mens               NaN      PLN     4.24 2020-08-04   \n",
       "237627       Accessories               NaN      CZK  3923.18 2020-08-04   \n",
       "237628         Jewellery               NaN      PLN   525.82 2020-08-09   \n",
       "237629  Bottoms - Womens   Brandy Melville      BRL    34.92 2020-08-06   \n",
       "237630  Bottoms - Womens               NaN      NOK   533.06 2020-08-08   \n",
       "\n",
       "            rate       total  \n",
       "0        0.89935   21.248680  \n",
       "1        0.89935   27.697782  \n",
       "2        0.89935   21.471062  \n",
       "3        0.89935   18.880302  \n",
       "4        0.89935    3.168955  \n",
       "...          ...         ...  \n",
       "237626   4.39693    0.964309  \n",
       "237627  26.12360  150.177617  \n",
       "237628   4.41427  119.118223  \n",
       "237629   6.33240    5.514497  \n",
       "237630  10.64540   50.074210  \n",
       "\n",
       "[237631 rows x 12 columns]"
      ]
     },
     "execution_count": 22,
     "metadata": {},
     "output_type": "execute_result"
    }
   ],
   "source": [
    "df_new[\"total\"] = df_new.price / df_new.rate\n",
    "df_new"
   ]
  },
  {
   "cell_type": "code",
   "execution_count": 23,
   "id": "461cdee9",
   "metadata": {},
   "outputs": [
    {
     "name": "stdout",
     "output_type": "stream",
     "text": [
      "<class 'pandas.core.frame.DataFrame'>\n",
      "Int64Index: 237631 entries, 0 to 237630\n",
      "Data columns (total 12 columns):\n",
      " #   Column          Non-Null Count   Dtype         \n",
      "---  ------          --------------   -----         \n",
      " 0   buyer_id        237631 non-null  object        \n",
      " 1   buyer_country   237631 non-null  object        \n",
      " 2   seller_id       237631 non-null  object        \n",
      " 3   seller_country  237631 non-null  object        \n",
      " 4   product_code    237631 non-null  object        \n",
      " 5   category        237615 non-null  object        \n",
      " 6   brand           119328 non-null  object        \n",
      " 7   currency        237631 non-null  object        \n",
      " 8   price           237631 non-null  float64       \n",
      " 9   date            237631 non-null  datetime64[ns]\n",
      " 10  rate            237631 non-null  float64       \n",
      " 11  total           237631 non-null  float64       \n",
      "dtypes: datetime64[ns](1), float64(3), object(8)\n",
      "memory usage: 23.6+ MB\n"
     ]
    }
   ],
   "source": [
    "df_new.info()"
   ]
  },
  {
   "cell_type": "code",
   "execution_count": 24,
   "id": "d6b9d8ff",
   "metadata": {},
   "outputs": [
    {
     "data": {
      "text/plain": [
       "buyer_id               0\n",
       "buyer_country          0\n",
       "seller_id              0\n",
       "seller_country         0\n",
       "product_code           0\n",
       "category              16\n",
       "brand             118303\n",
       "currency               0\n",
       "price                  0\n",
       "date                   0\n",
       "rate                   0\n",
       "total                  0\n",
       "dtype: int64"
      ]
     },
     "execution_count": 24,
     "metadata": {},
     "output_type": "execute_result"
    }
   ],
   "source": [
    "df_new.isnull().sum()"
   ]
  },
  {
   "cell_type": "code",
   "execution_count": 25,
   "id": "a335f534",
   "metadata": {},
   "outputs": [
    {
     "data": {
      "text/plain": [
       "False    237631\n",
       "dtype: int64"
      ]
     },
     "execution_count": 25,
     "metadata": {},
     "output_type": "execute_result"
    }
   ],
   "source": [
    "df_new.duplicated().value_counts()"
   ]
  },
  {
   "cell_type": "markdown",
   "id": "75a9c2c6",
   "metadata": {},
   "source": [
    "**1. Which country made the highest percentage of purchases?**"
   ]
  },
  {
   "cell_type": "code",
   "execution_count": 26,
   "id": "20fa26a6",
   "metadata": {},
   "outputs": [
    {
     "data": {
      "text/plain": [
       "GB     134696\n",
       "US      82631\n",
       "AU       7868\n",
       "IE       4045\n",
       "RoW      2880\n",
       "IT       2532\n",
       "CA       2247\n",
       "DE        466\n",
       "FR        266\n",
       "Name: buyer_country, dtype: int64"
      ]
     },
     "execution_count": 26,
     "metadata": {},
     "output_type": "execute_result"
    }
   ],
   "source": [
    "df_new[\"buyer_country\"].value_counts()"
   ]
  },
  {
   "cell_type": "code",
   "execution_count": 27,
   "id": "633ed5a8",
   "metadata": {},
   "outputs": [
    {
     "data": {
      "text/plain": [
       "237631"
      ]
     },
     "execution_count": 27,
     "metadata": {},
     "output_type": "execute_result"
    }
   ],
   "source": [
    "df_new[\"buyer_country\"].count()"
   ]
  },
  {
   "cell_type": "code",
   "execution_count": 28,
   "id": "13e55cb1",
   "metadata": {},
   "outputs": [
    {
     "data": {
      "text/plain": [
       "GB     0.566828\n",
       "US     0.347728\n",
       "AU     0.033110\n",
       "IE     0.017022\n",
       "RoW    0.012120\n",
       "IT     0.010655\n",
       "CA     0.009456\n",
       "DE     0.001961\n",
       "FR     0.001119\n",
       "Name: buyer_country, dtype: float64"
      ]
     },
     "execution_count": 28,
     "metadata": {},
     "output_type": "execute_result"
    }
   ],
   "source": [
    "(df_new[\"buyer_country\"].value_counts()) / (df_new[\"buyer_country\"].count())"
   ]
  },
  {
   "cell_type": "code",
   "execution_count": 29,
   "id": "908a6f73",
   "metadata": {},
   "outputs": [
    {
     "data": {
      "text/plain": [
       "6471266.356284026"
      ]
     },
     "execution_count": 29,
     "metadata": {},
     "output_type": "execute_result"
    }
   ],
   "source": [
    "df_new[\"total\"].sum()"
   ]
  },
  {
   "cell_type": "code",
   "execution_count": 30,
   "id": "f0b842a8",
   "metadata": {},
   "outputs": [
    {
     "data": {
      "text/plain": [
       "3578766.3502017986"
      ]
     },
     "execution_count": 30,
     "metadata": {},
     "output_type": "execute_result"
    }
   ],
   "source": [
    "df_new[df_new[\"buyer_country\"] == \"GB\"][\"total\"].sum()"
   ]
  },
  {
   "cell_type": "code",
   "execution_count": 31,
   "id": "ad1ef6fa",
   "metadata": {},
   "outputs": [
    {
     "data": {
      "text/plain": [
       "55.30241150909483"
      ]
     },
     "execution_count": 31,
     "metadata": {},
     "output_type": "execute_result"
    }
   ],
   "source": [
    "(df_new[df_new[\"buyer_country\"] == \"GB\"][\"total\"].sum()) / (df_new[\"total\"].sum()) * 100"
   ]
  },
  {
   "cell_type": "markdown",
   "id": "8d7cbca8",
   "metadata": {},
   "source": [
    "**2. Which day has the highest value of purchases?** "
   ]
  },
  {
   "cell_type": "code",
   "execution_count": 32,
   "id": "7637ee57",
   "metadata": {},
   "outputs": [
    {
     "data": {
      "text/plain": [
       "total    3045.065881\n",
       "dtype: float64"
      ]
     },
     "execution_count": 32,
     "metadata": {},
     "output_type": "execute_result"
    }
   ],
   "source": [
    "df_new[[\"total\"]].max()"
   ]
  },
  {
   "cell_type": "code",
   "execution_count": 33,
   "id": "827ad043",
   "metadata": {},
   "outputs": [
    {
     "data": {
      "text/plain": [
       "22018"
      ]
     },
     "execution_count": 33,
     "metadata": {},
     "output_type": "execute_result"
    }
   ],
   "source": [
    "df_new[\"total\"].idxmax()"
   ]
  },
  {
   "cell_type": "code",
   "execution_count": 34,
   "id": "3a09a365",
   "metadata": {},
   "outputs": [
    {
     "data": {
      "text/plain": [
       "buyer_id                   nihpetnpq7\n",
       "buyer_country                      GB\n",
       "seller_id                    o68e2qco\n",
       "seller_country                     US\n",
       "product_code             jl2uffnifg3f\n",
       "category                          Art\n",
       "brand                             NaN\n",
       "currency                          GBP\n",
       "price                         2738.58\n",
       "date              2020-08-03 00:00:00\n",
       "rate                          0.89935\n",
       "total                     3045.065881\n",
       "Name: 22018, dtype: object"
      ]
     },
     "execution_count": 34,
     "metadata": {},
     "output_type": "execute_result"
    }
   ],
   "source": [
    "df_new.iloc[df_new[\"total\"].idxmax()]"
   ]
  },
  {
   "cell_type": "code",
   "execution_count": null,
   "id": "69168d47",
   "metadata": {},
   "outputs": [],
   "source": [
    "df_new[\"total\"].min()"
   ]
  },
  {
   "cell_type": "markdown",
   "id": "a98a0308",
   "metadata": {},
   "source": [
    "**3. Which category has 2,324 transactions on 7 August?** "
   ]
  },
  {
   "cell_type": "code",
   "execution_count": 35,
   "id": "34741b33",
   "metadata": {},
   "outputs": [
    {
     "data": {
      "text/plain": [
       "Tops - Womens        6798\n",
       "Tops - Mens          4834\n",
       "Bottoms - Womens     4571\n",
       "Shoes                3292\n",
       "Accessories          3090\n",
       "Dresses              3079\n",
       "Jewellery            2324\n",
       "Beauty               1296\n",
       "Other                1014\n",
       "Outerwear             917\n",
       "Bottoms - Mens        826\n",
       "Lingerie              788\n",
       "Outerwear - Mens      552\n",
       "Tech                  539\n",
       "Home                  512\n",
       "Music                 335\n",
       "Art                   330\n",
       "Kids                  317\n",
       "Books & magazines     154\n",
       "Film                   64\n",
       "Sports equipment       63\n",
       "Underwear              24\n",
       "Transportation         16\n",
       "UNSPECIFIED             1\n",
       "Name: category, dtype: int64"
      ]
     },
     "execution_count": 35,
     "metadata": {},
     "output_type": "execute_result"
    }
   ],
   "source": [
    "df_new[df_new[\"date\"] == '2020-08-07'][\"category\"].value_counts()"
   ]
  },
  {
   "cell_type": "code",
   "execution_count": 38,
   "id": "425a77ac",
   "metadata": {},
   "outputs": [
    {
     "data": {
      "text/plain": [
       "Jewellery    2324\n",
       "Name: category, dtype: int64"
      ]
     },
     "execution_count": 38,
     "metadata": {},
     "output_type": "execute_result"
    }
   ],
   "source": [
    "transaction = df_new[df_new[\"date\"] == '2020-08-07'][\"category\"].value_counts()\n",
    "transaction[transaction == 2324]"
   ]
  },
  {
   "cell_type": "markdown",
   "id": "e58a39f6",
   "metadata": {},
   "source": [
    "**4. What percentage of global sales value on 4 August came from US sellers?**"
   ]
  },
  {
   "cell_type": "code",
   "execution_count": 39,
   "id": "aefb71d8",
   "metadata": {},
   "outputs": [
    {
     "data": {
      "text/plain": [
       "311132.1376567811"
      ]
     },
     "execution_count": 39,
     "metadata": {},
     "output_type": "execute_result"
    }
   ],
   "source": [
    "df_new[(df_new[\"date\"] == \"2020-08-04\") & (df_new[\"seller_country\"] == \"US\")][\"total\"].sum()"
   ]
  },
  {
   "cell_type": "code",
   "execution_count": 40,
   "id": "0fb062f5",
   "metadata": {},
   "outputs": [
    {
     "data": {
      "text/plain": [
       "935128.4198830683"
      ]
     },
     "execution_count": 40,
     "metadata": {},
     "output_type": "execute_result"
    }
   ],
   "source": [
    "df_new[df_new[\"date\"] == \"2020-08-04\"][\"total\"].sum()"
   ]
  },
  {
   "cell_type": "code",
   "execution_count": 41,
   "id": "a01f3cb8",
   "metadata": {},
   "outputs": [
    {
     "data": {
      "text/plain": [
       "0.33271594685966893"
      ]
     },
     "execution_count": 41,
     "metadata": {},
     "output_type": "execute_result"
    }
   ],
   "source": [
    "(df_new[(df_new[\"date\"] == \"2020-08-04\") & (df_new[\"seller_country\"] == \"US\")][\"total\"].sum()) / (df_new[df_new[\"date\"] == \"2020-08-04\"][\"total\"].sum())"
   ]
  },
  {
   "cell_type": "markdown",
   "id": "baab7dcd",
   "metadata": {},
   "source": [
    "**5. How many sellers in US has more than 75 sales?**"
   ]
  },
  {
   "cell_type": "code",
   "execution_count": 48,
   "id": "9e78dc93",
   "metadata": {},
   "outputs": [
    {
     "data": {
      "text/plain": [
       "seller_id\n",
       "00185ns7    1\n",
       "0020ayu8    1\n",
       "002unmvv    1\n",
       "0032a6rp    1\n",
       "004sig8r    1\n",
       "           ..\n",
       "zzv6vtqq    1\n",
       "zzwjh2fn    7\n",
       "zzy25wr9    1\n",
       "zzy993vl    1\n",
       "zzythjtn    3\n",
       "Name: total, Length: 34119, dtype: int64"
      ]
     },
     "execution_count": 48,
     "metadata": {},
     "output_type": "execute_result"
    }
   ],
   "source": [
    "df_new[df_new[\"seller_country\"] == \"US\"].groupby(\"seller_id\")[\"total\"].count()"
   ]
  },
  {
   "cell_type": "code",
   "execution_count": 42,
   "id": "fff9ad97",
   "metadata": {},
   "outputs": [
    {
     "data": {
      "text/plain": [
       "34119"
      ]
     },
     "execution_count": 42,
     "metadata": {},
     "output_type": "execute_result"
    }
   ],
   "source": [
    "df_new[df_new[\"seller_country\"] == \"US\"][\"seller_id\"].nunique()"
   ]
  },
  {
   "cell_type": "code",
   "execution_count": 43,
   "id": "21fe5a1e",
   "metadata": {},
   "outputs": [
    {
     "data": {
      "text/plain": [
       "seller_id\n",
       "pzsiehl0     703\n",
       "wd3rgi3q     525\n",
       "j21w87xy     500\n",
       "ucp2k0nu     218\n",
       "r64zesw6     211\n",
       "            ... \n",
       "evo9d2vu       1\n",
       "evl1txv5       1\n",
       "evkjcu3x       1\n",
       "evjivady       1\n",
       "i07ohhd1       1\n",
       "Length: 34119, dtype: int64"
      ]
     },
     "execution_count": 43,
     "metadata": {},
     "output_type": "execute_result"
    }
   ],
   "source": [
    "df_new[df_new[\"seller_country\"] == \"US\"][[\"seller_id\"]].value_counts()"
   ]
  },
  {
   "cell_type": "code",
   "execution_count": 44,
   "id": "378bbb2a",
   "metadata": {},
   "outputs": [
    {
     "data": {
      "text/plain": [
       "[pzsiehl0     True\n",
       " wd3rgi3q     True\n",
       " j21w87xy     True\n",
       " ucp2k0nu     True\n",
       " r64zesw6     True\n",
       "             ...  \n",
       " 5jwrqavu    False\n",
       " v3jbqypj    False\n",
       " p1ziq1af    False\n",
       " x6pzj5e7    False\n",
       " w2pozh7u    False\n",
       " Name: seller_id, Length: 34119, dtype: bool]"
      ]
     },
     "execution_count": 44,
     "metadata": {},
     "output_type": "execute_result"
    }
   ],
   "source": [
    "[df_new[df_new[\"seller_country\"] == \"US\"][\"seller_id\"].value_counts() > 75]"
   ]
  },
  {
   "cell_type": "code",
   "execution_count": 49,
   "id": "bd177a35",
   "metadata": {},
   "outputs": [
    {
     "data": {
      "text/plain": [
       "22"
      ]
     },
     "execution_count": 49,
     "metadata": {},
     "output_type": "execute_result"
    }
   ],
   "source": [
    "(df_new[df_new[\"seller_country\"] == \"US\"][\"seller_id\"].value_counts() > 75).sum()"
   ]
  },
  {
   "cell_type": "code",
   "execution_count": 50,
   "id": "6e3dee62",
   "metadata": {},
   "outputs": [],
   "source": [
    "df1 = df_new[df_new[\"seller_country\"] == \"US\"][[\"seller_id\"]].value_counts()"
   ]
  },
  {
   "cell_type": "code",
   "execution_count": 51,
   "id": "25fb1c54",
   "metadata": {},
   "outputs": [
    {
     "data": {
      "text/plain": [
       "seller_id\n",
       "pzsiehl0     703\n",
       "wd3rgi3q     525\n",
       "j21w87xy     500\n",
       "ucp2k0nu     218\n",
       "r64zesw6     211\n",
       "            ... \n",
       "evo9d2vu       1\n",
       "evl1txv5       1\n",
       "evkjcu3x       1\n",
       "evjivady       1\n",
       "i07ohhd1       1\n",
       "Length: 34119, dtype: int64"
      ]
     },
     "execution_count": 51,
     "metadata": {},
     "output_type": "execute_result"
    }
   ],
   "source": [
    "df1"
   ]
  },
  {
   "cell_type": "code",
   "execution_count": 52,
   "id": "10054aba",
   "metadata": {},
   "outputs": [
    {
     "data": {
      "text/plain": [
       "22"
      ]
     },
     "execution_count": 52,
     "metadata": {},
     "output_type": "execute_result"
    }
   ],
   "source": [
    "df1[df1.values > 75].count()"
   ]
  },
  {
   "cell_type": "markdown",
   "id": "4950a8d0",
   "metadata": {},
   "source": [
    "**6. Which seller in the US sold the most in terms of value?**"
   ]
  },
  {
   "cell_type": "code",
   "execution_count": 53,
   "id": "f35ab85f",
   "metadata": {},
   "outputs": [
    {
     "data": {
      "text/html": [
       "<div>\n",
       "<style scoped>\n",
       "    .dataframe tbody tr th:only-of-type {\n",
       "        vertical-align: middle;\n",
       "    }\n",
       "\n",
       "    .dataframe tbody tr th {\n",
       "        vertical-align: top;\n",
       "    }\n",
       "\n",
       "    .dataframe thead th {\n",
       "        text-align: right;\n",
       "    }\n",
       "</style>\n",
       "<table border=\"1\" class=\"dataframe\">\n",
       "  <thead>\n",
       "    <tr style=\"text-align: right;\">\n",
       "      <th></th>\n",
       "      <th>buyer_id</th>\n",
       "      <th>buyer_country</th>\n",
       "      <th>seller_id</th>\n",
       "      <th>seller_country</th>\n",
       "      <th>product_code</th>\n",
       "      <th>category</th>\n",
       "      <th>brand</th>\n",
       "      <th>currency</th>\n",
       "      <th>price</th>\n",
       "      <th>date</th>\n",
       "      <th>rate</th>\n",
       "      <th>total</th>\n",
       "    </tr>\n",
       "  </thead>\n",
       "  <tbody>\n",
       "    <tr>\n",
       "      <th>22018</th>\n",
       "      <td>nihpetnpq7</td>\n",
       "      <td>GB</td>\n",
       "      <td>o68e2qco</td>\n",
       "      <td>US</td>\n",
       "      <td>jl2uffnifg3f</td>\n",
       "      <td>Art</td>\n",
       "      <td>NaN</td>\n",
       "      <td>GBP</td>\n",
       "      <td>2738.58</td>\n",
       "      <td>2020-08-03</td>\n",
       "      <td>0.89935</td>\n",
       "      <td>3045.065881</td>\n",
       "    </tr>\n",
       "  </tbody>\n",
       "</table>\n",
       "</div>"
      ],
      "text/plain": [
       "         buyer_id buyer_country seller_id seller_country  product_code  \\\n",
       "22018  nihpetnpq7            GB  o68e2qco             US  jl2uffnifg3f   \n",
       "\n",
       "      category brand currency    price       date     rate        total  \n",
       "22018      Art   NaN      GBP  2738.58 2020-08-03  0.89935  3045.065881  "
      ]
     },
     "execution_count": 53,
     "metadata": {},
     "output_type": "execute_result"
    }
   ],
   "source": [
    "df_new[(df_new[\"seller_country\"] == \"US\") & (df_new[\"total\"] == df_new[\"total\"].max())]"
   ]
  },
  {
   "cell_type": "code",
   "execution_count": 57,
   "id": "e08f928b",
   "metadata": {},
   "outputs": [
    {
     "data": {
      "text/html": [
       "<div>\n",
       "<style scoped>\n",
       "    .dataframe tbody tr th:only-of-type {\n",
       "        vertical-align: middle;\n",
       "    }\n",
       "\n",
       "    .dataframe tbody tr th {\n",
       "        vertical-align: top;\n",
       "    }\n",
       "\n",
       "    .dataframe thead th {\n",
       "        text-align: right;\n",
       "    }\n",
       "</style>\n",
       "<table border=\"1\" class=\"dataframe\">\n",
       "  <thead>\n",
       "    <tr style=\"text-align: right;\">\n",
       "      <th></th>\n",
       "      <th>buyer_id</th>\n",
       "      <th>buyer_country</th>\n",
       "      <th>seller_id</th>\n",
       "      <th>seller_country</th>\n",
       "      <th>product_code</th>\n",
       "      <th>category</th>\n",
       "      <th>brand</th>\n",
       "      <th>currency</th>\n",
       "      <th>price</th>\n",
       "      <th>date</th>\n",
       "      <th>rate</th>\n",
       "      <th>total</th>\n",
       "    </tr>\n",
       "  </thead>\n",
       "  <tbody>\n",
       "    <tr>\n",
       "      <th>22018</th>\n",
       "      <td>nihpetnpq7</td>\n",
       "      <td>GB</td>\n",
       "      <td>o68e2qco</td>\n",
       "      <td>US</td>\n",
       "      <td>jl2uffnifg3f</td>\n",
       "      <td>Art</td>\n",
       "      <td>NaN</td>\n",
       "      <td>GBP</td>\n",
       "      <td>2738.58</td>\n",
       "      <td>2020-08-03</td>\n",
       "      <td>0.89935</td>\n",
       "      <td>3045.065881</td>\n",
       "    </tr>\n",
       "  </tbody>\n",
       "</table>\n",
       "</div>"
      ],
      "text/plain": [
       "         buyer_id buyer_country seller_id seller_country  product_code  \\\n",
       "22018  nihpetnpq7            GB  o68e2qco             US  jl2uffnifg3f   \n",
       "\n",
       "      category brand currency    price       date     rate        total  \n",
       "22018      Art   NaN      GBP  2738.58 2020-08-03  0.89935  3045.065881  "
      ]
     },
     "execution_count": 57,
     "metadata": {},
     "output_type": "execute_result"
    }
   ],
   "source": [
    "df_new[df_new[\"seller_id\"] == 'o68e2qco']"
   ]
  },
  {
   "cell_type": "code",
   "execution_count": 58,
   "id": "c2e08039",
   "metadata": {},
   "outputs": [
    {
     "data": {
      "text/html": [
       "<div>\n",
       "<style scoped>\n",
       "    .dataframe tbody tr th:only-of-type {\n",
       "        vertical-align: middle;\n",
       "    }\n",
       "\n",
       "    .dataframe tbody tr th {\n",
       "        vertical-align: top;\n",
       "    }\n",
       "\n",
       "    .dataframe thead th {\n",
       "        text-align: right;\n",
       "    }\n",
       "</style>\n",
       "<table border=\"1\" class=\"dataframe\">\n",
       "  <thead>\n",
       "    <tr style=\"text-align: right;\">\n",
       "      <th></th>\n",
       "      <th>seller_id</th>\n",
       "      <th>total</th>\n",
       "    </tr>\n",
       "  </thead>\n",
       "  <tbody>\n",
       "    <tr>\n",
       "      <th>2279</th>\n",
       "      <td>skmvdhuk</td>\n",
       "      <td>123.422472</td>\n",
       "    </tr>\n",
       "    <tr>\n",
       "      <th>2280</th>\n",
       "      <td>skmvdhuk</td>\n",
       "      <td>21.882471</td>\n",
       "    </tr>\n",
       "    <tr>\n",
       "      <th>6045</th>\n",
       "      <td>6wrqs7vq</td>\n",
       "      <td>42.797576</td>\n",
       "    </tr>\n",
       "    <tr>\n",
       "      <th>8089</th>\n",
       "      <td>4f4klmnu</td>\n",
       "      <td>38.071941</td>\n",
       "    </tr>\n",
       "    <tr>\n",
       "      <th>10105</th>\n",
       "      <td>vb2kphyp</td>\n",
       "      <td>10.729972</td>\n",
       "    </tr>\n",
       "    <tr>\n",
       "      <th>...</th>\n",
       "      <td>...</td>\n",
       "      <td>...</td>\n",
       "    </tr>\n",
       "    <tr>\n",
       "      <th>237580</th>\n",
       "      <td>nwf1wnr9</td>\n",
       "      <td>32.066781</td>\n",
       "    </tr>\n",
       "    <tr>\n",
       "      <th>237582</th>\n",
       "      <td>nwf1wnr9</td>\n",
       "      <td>30.258199</td>\n",
       "    </tr>\n",
       "    <tr>\n",
       "      <th>237599</th>\n",
       "      <td>8hqcuuzp</td>\n",
       "      <td>26.740100</td>\n",
       "    </tr>\n",
       "    <tr>\n",
       "      <th>237618</th>\n",
       "      <td>jjvkctil</td>\n",
       "      <td>1.236476</td>\n",
       "    </tr>\n",
       "    <tr>\n",
       "      <th>237629</th>\n",
       "      <td>w2pozh7u</td>\n",
       "      <td>5.514497</td>\n",
       "    </tr>\n",
       "  </tbody>\n",
       "</table>\n",
       "<p>82081 rows × 2 columns</p>\n",
       "</div>"
      ],
      "text/plain": [
       "       seller_id       total\n",
       "2279    skmvdhuk  123.422472\n",
       "2280    skmvdhuk   21.882471\n",
       "6045    6wrqs7vq   42.797576\n",
       "8089    4f4klmnu   38.071941\n",
       "10105   vb2kphyp   10.729972\n",
       "...          ...         ...\n",
       "237580  nwf1wnr9   32.066781\n",
       "237582  nwf1wnr9   30.258199\n",
       "237599  8hqcuuzp   26.740100\n",
       "237618  jjvkctil    1.236476\n",
       "237629  w2pozh7u    5.514497\n",
       "\n",
       "[82081 rows x 2 columns]"
      ]
     },
     "execution_count": 58,
     "metadata": {},
     "output_type": "execute_result"
    }
   ],
   "source": [
    "df_new[df_new[\"seller_country\"] == \"US\"][[\"seller_id\", \"total\"]]"
   ]
  },
  {
   "cell_type": "code",
   "execution_count": 59,
   "id": "bb31fe63",
   "metadata": {},
   "outputs": [
    {
     "data": {
      "text/html": [
       "<div>\n",
       "<style scoped>\n",
       "    .dataframe tbody tr th:only-of-type {\n",
       "        vertical-align: middle;\n",
       "    }\n",
       "\n",
       "    .dataframe tbody tr th {\n",
       "        vertical-align: top;\n",
       "    }\n",
       "\n",
       "    .dataframe thead th {\n",
       "        text-align: right;\n",
       "    }\n",
       "</style>\n",
       "<table border=\"1\" class=\"dataframe\">\n",
       "  <thead>\n",
       "    <tr style=\"text-align: right;\">\n",
       "      <th></th>\n",
       "      <th>buyer_id</th>\n",
       "      <th>buyer_country</th>\n",
       "      <th>seller_id</th>\n",
       "      <th>seller_country</th>\n",
       "      <th>product_code</th>\n",
       "      <th>category</th>\n",
       "      <th>brand</th>\n",
       "      <th>currency</th>\n",
       "      <th>price</th>\n",
       "      <th>date</th>\n",
       "      <th>rate</th>\n",
       "      <th>total</th>\n",
       "    </tr>\n",
       "  </thead>\n",
       "  <tbody>\n",
       "    <tr>\n",
       "      <th>2279</th>\n",
       "      <td>3j95yx6wup</td>\n",
       "      <td>GB</td>\n",
       "      <td>skmvdhuk</td>\n",
       "      <td>US</td>\n",
       "      <td>ync12uryxow0</td>\n",
       "      <td>Shoes</td>\n",
       "      <td>Nike</td>\n",
       "      <td>GBP</td>\n",
       "      <td>111.00</td>\n",
       "      <td>2020-08-03</td>\n",
       "      <td>0.89935</td>\n",
       "      <td>123.422472</td>\n",
       "    </tr>\n",
       "    <tr>\n",
       "      <th>2280</th>\n",
       "      <td>x7aa9gdbc4</td>\n",
       "      <td>US</td>\n",
       "      <td>skmvdhuk</td>\n",
       "      <td>US</td>\n",
       "      <td>jyz0v0al09uw</td>\n",
       "      <td>Tops - Mens</td>\n",
       "      <td>Hugo Boss</td>\n",
       "      <td>GBP</td>\n",
       "      <td>19.68</td>\n",
       "      <td>2020-08-03</td>\n",
       "      <td>0.89935</td>\n",
       "      <td>21.882471</td>\n",
       "    </tr>\n",
       "    <tr>\n",
       "      <th>6045</th>\n",
       "      <td>57o59g602o</td>\n",
       "      <td>GB</td>\n",
       "      <td>6wrqs7vq</td>\n",
       "      <td>US</td>\n",
       "      <td>cajxgdvj4pi7</td>\n",
       "      <td>Tops - Mens</td>\n",
       "      <td>Patagonia</td>\n",
       "      <td>GBP</td>\n",
       "      <td>38.49</td>\n",
       "      <td>2020-08-03</td>\n",
       "      <td>0.89935</td>\n",
       "      <td>42.797576</td>\n",
       "    </tr>\n",
       "    <tr>\n",
       "      <th>8089</th>\n",
       "      <td>ugqd9ybhv6</td>\n",
       "      <td>US</td>\n",
       "      <td>4f4klmnu</td>\n",
       "      <td>US</td>\n",
       "      <td>fv9znlng5p7f</td>\n",
       "      <td>Tops - Mens</td>\n",
       "      <td>NaN</td>\n",
       "      <td>GBP</td>\n",
       "      <td>34.24</td>\n",
       "      <td>2020-08-03</td>\n",
       "      <td>0.89935</td>\n",
       "      <td>38.071941</td>\n",
       "    </tr>\n",
       "    <tr>\n",
       "      <th>10105</th>\n",
       "      <td>c0926rtpnh</td>\n",
       "      <td>GB</td>\n",
       "      <td>vb2kphyp</td>\n",
       "      <td>US</td>\n",
       "      <td>thmojbwtriv6</td>\n",
       "      <td>Other</td>\n",
       "      <td>NaN</td>\n",
       "      <td>GBP</td>\n",
       "      <td>9.65</td>\n",
       "      <td>2020-08-03</td>\n",
       "      <td>0.89935</td>\n",
       "      <td>10.729972</td>\n",
       "    </tr>\n",
       "    <tr>\n",
       "      <th>...</th>\n",
       "      <td>...</td>\n",
       "      <td>...</td>\n",
       "      <td>...</td>\n",
       "      <td>...</td>\n",
       "      <td>...</td>\n",
       "      <td>...</td>\n",
       "      <td>...</td>\n",
       "      <td>...</td>\n",
       "      <td>...</td>\n",
       "      <td>...</td>\n",
       "      <td>...</td>\n",
       "      <td>...</td>\n",
       "    </tr>\n",
       "    <tr>\n",
       "      <th>237580</th>\n",
       "      <td>gaeeaczxhm</td>\n",
       "      <td>RoW</td>\n",
       "      <td>nwf1wnr9</td>\n",
       "      <td>US</td>\n",
       "      <td>hhyjdd6q4dd8</td>\n",
       "      <td>Art</td>\n",
       "      <td>NaN</td>\n",
       "      <td>SEK</td>\n",
       "      <td>329.98</td>\n",
       "      <td>2020-08-03</td>\n",
       "      <td>10.29040</td>\n",
       "      <td>32.066781</td>\n",
       "    </tr>\n",
       "    <tr>\n",
       "      <th>237582</th>\n",
       "      <td>6zqe0dq688</td>\n",
       "      <td>RoW</td>\n",
       "      <td>nwf1wnr9</td>\n",
       "      <td>US</td>\n",
       "      <td>7hb82zo1qwsx</td>\n",
       "      <td>Art</td>\n",
       "      <td>NaN</td>\n",
       "      <td>SEK</td>\n",
       "      <td>312.31</td>\n",
       "      <td>2020-08-06</td>\n",
       "      <td>10.32150</td>\n",
       "      <td>30.258199</td>\n",
       "    </tr>\n",
       "    <tr>\n",
       "      <th>237599</th>\n",
       "      <td>8qfb4oy0qx</td>\n",
       "      <td>US</td>\n",
       "      <td>8hqcuuzp</td>\n",
       "      <td>US</td>\n",
       "      <td>os3m6i2pyuns</td>\n",
       "      <td>Other</td>\n",
       "      <td>NaN</td>\n",
       "      <td>JPY</td>\n",
       "      <td>3352.54</td>\n",
       "      <td>2020-08-06</td>\n",
       "      <td>125.37500</td>\n",
       "      <td>26.740100</td>\n",
       "    </tr>\n",
       "    <tr>\n",
       "      <th>237618</th>\n",
       "      <td>n8toz7raxv</td>\n",
       "      <td>US</td>\n",
       "      <td>jjvkctil</td>\n",
       "      <td>US</td>\n",
       "      <td>7p6hqqxi87f6</td>\n",
       "      <td>Bottoms - Womens</td>\n",
       "      <td>ASOS</td>\n",
       "      <td>TWD</td>\n",
       "      <td>42.81</td>\n",
       "      <td>2020-08-04</td>\n",
       "      <td>34.62260</td>\n",
       "      <td>1.236476</td>\n",
       "    </tr>\n",
       "    <tr>\n",
       "      <th>237629</th>\n",
       "      <td>rrfjxzbdxu</td>\n",
       "      <td>US</td>\n",
       "      <td>w2pozh7u</td>\n",
       "      <td>US</td>\n",
       "      <td>5mm5eg99xbu2</td>\n",
       "      <td>Bottoms - Womens</td>\n",
       "      <td>Brandy Melville</td>\n",
       "      <td>BRL</td>\n",
       "      <td>34.92</td>\n",
       "      <td>2020-08-06</td>\n",
       "      <td>6.33240</td>\n",
       "      <td>5.514497</td>\n",
       "    </tr>\n",
       "  </tbody>\n",
       "</table>\n",
       "<p>82081 rows × 12 columns</p>\n",
       "</div>"
      ],
      "text/plain": [
       "          buyer_id buyer_country seller_id seller_country  product_code  \\\n",
       "2279    3j95yx6wup            GB  skmvdhuk             US  ync12uryxow0   \n",
       "2280    x7aa9gdbc4            US  skmvdhuk             US  jyz0v0al09uw   \n",
       "6045    57o59g602o            GB  6wrqs7vq             US  cajxgdvj4pi7   \n",
       "8089    ugqd9ybhv6            US  4f4klmnu             US  fv9znlng5p7f   \n",
       "10105   c0926rtpnh            GB  vb2kphyp             US  thmojbwtriv6   \n",
       "...            ...           ...       ...            ...           ...   \n",
       "237580  gaeeaczxhm           RoW  nwf1wnr9             US  hhyjdd6q4dd8   \n",
       "237582  6zqe0dq688           RoW  nwf1wnr9             US  7hb82zo1qwsx   \n",
       "237599  8qfb4oy0qx            US  8hqcuuzp             US  os3m6i2pyuns   \n",
       "237618  n8toz7raxv            US  jjvkctil             US  7p6hqqxi87f6   \n",
       "237629  rrfjxzbdxu            US  w2pozh7u             US  5mm5eg99xbu2   \n",
       "\n",
       "                category            brand currency    price       date  \\\n",
       "2279               Shoes             Nike      GBP   111.00 2020-08-03   \n",
       "2280         Tops - Mens        Hugo Boss      GBP    19.68 2020-08-03   \n",
       "6045         Tops - Mens        Patagonia      GBP    38.49 2020-08-03   \n",
       "8089         Tops - Mens              NaN      GBP    34.24 2020-08-03   \n",
       "10105              Other              NaN      GBP     9.65 2020-08-03   \n",
       "...                  ...              ...      ...      ...        ...   \n",
       "237580               Art              NaN      SEK   329.98 2020-08-03   \n",
       "237582               Art              NaN      SEK   312.31 2020-08-06   \n",
       "237599             Other              NaN      JPY  3352.54 2020-08-06   \n",
       "237618  Bottoms - Womens             ASOS      TWD    42.81 2020-08-04   \n",
       "237629  Bottoms - Womens  Brandy Melville      BRL    34.92 2020-08-06   \n",
       "\n",
       "             rate       total  \n",
       "2279      0.89935  123.422472  \n",
       "2280      0.89935   21.882471  \n",
       "6045      0.89935   42.797576  \n",
       "8089      0.89935   38.071941  \n",
       "10105     0.89935   10.729972  \n",
       "...           ...         ...  \n",
       "237580   10.29040   32.066781  \n",
       "237582   10.32150   30.258199  \n",
       "237599  125.37500   26.740100  \n",
       "237618   34.62260    1.236476  \n",
       "237629    6.33240    5.514497  \n",
       "\n",
       "[82081 rows x 12 columns]"
      ]
     },
     "execution_count": 59,
     "metadata": {},
     "output_type": "execute_result"
    }
   ],
   "source": [
    "df2 = df_new[df_new[\"seller_country\"] == \"US\"]\n",
    "df2"
   ]
  },
  {
   "cell_type": "code",
   "execution_count": 60,
   "id": "623ec985",
   "metadata": {},
   "outputs": [
    {
     "data": {
      "text/plain": [
       "total    20558.868517\n",
       "dtype: float64"
      ]
     },
     "execution_count": 60,
     "metadata": {},
     "output_type": "execute_result"
    }
   ],
   "source": [
    "df2.groupby(\"seller_id\")[[\"total\"]].sum().max()"
   ]
  },
  {
   "cell_type": "code",
   "execution_count": 61,
   "id": "adb54b46",
   "metadata": {},
   "outputs": [
    {
     "data": {
      "text/plain": [
       "total    pzsiehl0\n",
       "dtype: object"
      ]
     },
     "execution_count": 61,
     "metadata": {},
     "output_type": "execute_result"
    }
   ],
   "source": [
    "df2.groupby(\"seller_id\")[[\"total\"]].sum().idxmax()"
   ]
  },
  {
   "cell_type": "markdown",
   "id": "b020de3b",
   "metadata": {},
   "source": [
    "**7. Which brand had the largest absolute € difference in average transaction value between domestic and international?**"
   ]
  },
  {
   "cell_type": "code",
   "execution_count": 62,
   "id": "f9d68416",
   "metadata": {},
   "outputs": [
    {
     "data": {
      "text/plain": [
       "brand\n",
       "Goyard            338.926936\n",
       "Loewe             334.530369\n",
       "Craig Green       266.792684\n",
       "TAG Heuer         224.586782\n",
       "Emilio Pucci      214.758636\n",
       "                     ...    \n",
       "Popular Sports      4.452175\n",
       "Max Factor          4.329298\n",
       "Bronica             3.329066\n",
       "360 Cashmere        0.950906\n",
       "36572               0.950199\n",
       "Name: total, Length: 1134, dtype: float64"
      ]
     },
     "execution_count": 62,
     "metadata": {},
     "output_type": "execute_result"
    }
   ],
   "source": [
    "df_new.groupby(\"brand\")[\"total\"].mean().sort_values(ascending=False)"
   ]
  },
  {
   "cell_type": "code",
   "execution_count": 63,
   "id": "ada6ffe9",
   "metadata": {},
   "outputs": [
    {
     "data": {
      "text/html": [
       "<div>\n",
       "<style scoped>\n",
       "    .dataframe tbody tr th:only-of-type {\n",
       "        vertical-align: middle;\n",
       "    }\n",
       "\n",
       "    .dataframe tbody tr th {\n",
       "        vertical-align: top;\n",
       "    }\n",
       "\n",
       "    .dataframe thead th {\n",
       "        text-align: right;\n",
       "    }\n",
       "</style>\n",
       "<table border=\"1\" class=\"dataframe\">\n",
       "  <thead>\n",
       "    <tr style=\"text-align: right;\">\n",
       "      <th></th>\n",
       "      <th>brand</th>\n",
       "      <th>total</th>\n",
       "    </tr>\n",
       "  </thead>\n",
       "  <tbody>\n",
       "    <tr>\n",
       "      <th>140164</th>\n",
       "      <td>philosophy</td>\n",
       "      <td>23.610842</td>\n",
       "    </tr>\n",
       "    <tr>\n",
       "      <th>226616</th>\n",
       "      <td>philosophy</td>\n",
       "      <td>35.324508</td>\n",
       "    </tr>\n",
       "    <tr>\n",
       "      <th>192434</th>\n",
       "      <td>philosophy</td>\n",
       "      <td>12.013235</td>\n",
       "    </tr>\n",
       "    <tr>\n",
       "      <th>125764</th>\n",
       "      <td>philosophy</td>\n",
       "      <td>19.128587</td>\n",
       "    </tr>\n",
       "    <tr>\n",
       "      <th>200362</th>\n",
       "      <td>mixxmix</td>\n",
       "      <td>5.831842</td>\n",
       "    </tr>\n",
       "    <tr>\n",
       "      <th>...</th>\n",
       "      <td>...</td>\n",
       "      <td>...</td>\n",
       "    </tr>\n",
       "    <tr>\n",
       "      <th>237621</th>\n",
       "      <td>NaN</td>\n",
       "      <td>58.111641</td>\n",
       "    </tr>\n",
       "    <tr>\n",
       "      <th>237622</th>\n",
       "      <td>NaN</td>\n",
       "      <td>6.071314</td>\n",
       "    </tr>\n",
       "    <tr>\n",
       "      <th>237624</th>\n",
       "      <td>NaN</td>\n",
       "      <td>1.037087</td>\n",
       "    </tr>\n",
       "    <tr>\n",
       "      <th>237625</th>\n",
       "      <td>NaN</td>\n",
       "      <td>1.018893</td>\n",
       "    </tr>\n",
       "    <tr>\n",
       "      <th>237626</th>\n",
       "      <td>NaN</td>\n",
       "      <td>0.964309</td>\n",
       "    </tr>\n",
       "  </tbody>\n",
       "</table>\n",
       "<p>229175 rows × 2 columns</p>\n",
       "</div>"
      ],
      "text/plain": [
       "             brand      total\n",
       "140164  philosophy  23.610842\n",
       "226616  philosophy  35.324508\n",
       "192434  philosophy  12.013235\n",
       "125764  philosophy  19.128587\n",
       "200362     mixxmix   5.831842\n",
       "...            ...        ...\n",
       "237621         NaN  58.111641\n",
       "237622         NaN   6.071314\n",
       "237624         NaN   1.037087\n",
       "237625         NaN   1.018893\n",
       "237626         NaN   0.964309\n",
       "\n",
       "[229175 rows x 2 columns]"
      ]
     },
     "execution_count": 63,
     "metadata": {},
     "output_type": "execute_result"
    }
   ],
   "source": [
    "df3 = df_new[(df_new.seller_country == df_new.buyer_country)][[\"brand\",\"total\"]].sort_values(by=\"brand\", ascending=False)\n",
    "df3"
   ]
  },
  {
   "cell_type": "code",
   "execution_count": 64,
   "id": "3b9310d8",
   "metadata": {},
   "outputs": [
    {
     "data": {
      "text/plain": [
       "brand\n",
       "TAG Heuer           224.586782\n",
       "Canada Goose        216.424622\n",
       "Emilio Pucci        214.758636\n",
       "Loeffler Randall    207.720370\n",
       "Goyard              202.661941\n",
       "                       ...    \n",
       "Popular Sports        4.452175\n",
       "Max Factor            4.329298\n",
       "Bronica               3.329066\n",
       "360 Cashmere          0.950906\n",
       "36572                 0.950199\n",
       "Name: total, Length: 1121, dtype: float64"
      ]
     },
     "execution_count": 64,
     "metadata": {},
     "output_type": "execute_result"
    }
   ],
   "source": [
    "df3.groupby(\"brand\")[\"total\"].mean().sort_values(ascending=False)"
   ]
  },
  {
   "cell_type": "code",
   "execution_count": 65,
   "id": "48a48925",
   "metadata": {},
   "outputs": [
    {
     "data": {
      "text/plain": [
       "brand\n",
       "TAG Heuer           224.586782\n",
       "Canada Goose        216.424622\n",
       "Emilio Pucci        214.758636\n",
       "Loeffler Randall    207.720370\n",
       "Goyard              202.661941\n",
       "                       ...    \n",
       "Popular Sports        4.452175\n",
       "Max Factor            4.329298\n",
       "Bronica               3.329066\n",
       "360 Cashmere          0.950906\n",
       "36572                 0.950199\n",
       "Name: total, Length: 1121, dtype: float64"
      ]
     },
     "execution_count": 65,
     "metadata": {},
     "output_type": "execute_result"
    }
   ],
   "source": [
    "df33 = df3.groupby(\"brand\")[\"total\"].mean().sort_values(ascending=False)\n",
    "df33"
   ]
  },
  {
   "cell_type": "code",
   "execution_count": 66,
   "id": "d118dea6",
   "metadata": {},
   "outputs": [
    {
     "data": {
      "text/html": [
       "<div>\n",
       "<style scoped>\n",
       "    .dataframe tbody tr th:only-of-type {\n",
       "        vertical-align: middle;\n",
       "    }\n",
       "\n",
       "    .dataframe tbody tr th {\n",
       "        vertical-align: top;\n",
       "    }\n",
       "\n",
       "    .dataframe thead th {\n",
       "        text-align: right;\n",
       "    }\n",
       "</style>\n",
       "<table border=\"1\" class=\"dataframe\">\n",
       "  <thead>\n",
       "    <tr style=\"text-align: right;\">\n",
       "      <th></th>\n",
       "      <th>brand</th>\n",
       "      <th>total</th>\n",
       "    </tr>\n",
       "  </thead>\n",
       "  <tbody>\n",
       "    <tr>\n",
       "      <th>58426</th>\n",
       "      <td>ghd</td>\n",
       "      <td>151.296990</td>\n",
       "    </tr>\n",
       "    <tr>\n",
       "      <th>89541</th>\n",
       "      <td>ghd</td>\n",
       "      <td>57.810945</td>\n",
       "    </tr>\n",
       "    <tr>\n",
       "      <th>33315</th>\n",
       "      <td>Zoeva</td>\n",
       "      <td>21.455947</td>\n",
       "    </tr>\n",
       "    <tr>\n",
       "      <th>10072</th>\n",
       "      <td>Zara</td>\n",
       "      <td>26.218936</td>\n",
       "    </tr>\n",
       "    <tr>\n",
       "      <th>32713</th>\n",
       "      <td>Zara</td>\n",
       "      <td>36.509449</td>\n",
       "    </tr>\n",
       "    <tr>\n",
       "      <th>...</th>\n",
       "      <td>...</td>\n",
       "      <td>...</td>\n",
       "    </tr>\n",
       "    <tr>\n",
       "      <th>237617</th>\n",
       "      <td>NaN</td>\n",
       "      <td>53.004529</td>\n",
       "    </tr>\n",
       "    <tr>\n",
       "      <th>237623</th>\n",
       "      <td>NaN</td>\n",
       "      <td>106.618862</td>\n",
       "    </tr>\n",
       "    <tr>\n",
       "      <th>237627</th>\n",
       "      <td>NaN</td>\n",
       "      <td>150.177617</td>\n",
       "    </tr>\n",
       "    <tr>\n",
       "      <th>237628</th>\n",
       "      <td>NaN</td>\n",
       "      <td>119.118223</td>\n",
       "    </tr>\n",
       "    <tr>\n",
       "      <th>237630</th>\n",
       "      <td>NaN</td>\n",
       "      <td>50.074210</td>\n",
       "    </tr>\n",
       "  </tbody>\n",
       "</table>\n",
       "<p>8456 rows × 2 columns</p>\n",
       "</div>"
      ],
      "text/plain": [
       "        brand       total\n",
       "58426     ghd  151.296990\n",
       "89541     ghd   57.810945\n",
       "33315   Zoeva   21.455947\n",
       "10072    Zara   26.218936\n",
       "32713    Zara   36.509449\n",
       "...       ...         ...\n",
       "237617    NaN   53.004529\n",
       "237623    NaN  106.618862\n",
       "237627    NaN  150.177617\n",
       "237628    NaN  119.118223\n",
       "237630    NaN   50.074210\n",
       "\n",
       "[8456 rows x 2 columns]"
      ]
     },
     "execution_count": 66,
     "metadata": {},
     "output_type": "execute_result"
    }
   ],
   "source": [
    "df4 = df_new[(df_new.seller_country != df_new.buyer_country)][[\"brand\",\"total\"]].sort_values(by=\"brand\", ascending=False)\n",
    "df4"
   ]
  },
  {
   "cell_type": "code",
   "execution_count": 67,
   "id": "1f33cedf",
   "metadata": {},
   "outputs": [
    {
     "data": {
      "text/plain": [
       "brand\n",
       "Goyard          611.456926\n",
       "Loewe           461.082817\n",
       "Needles         314.338133\n",
       "Hermes          267.749153\n",
       "Craig Green     266.792684\n",
       "                   ...    \n",
       "Canada Goose      6.195821\n",
       "NICCE             5.377624\n",
       "Skinnydip         4.740491\n",
       "COS               1.189748\n",
       "Old Navy          0.960680\n",
       "Name: total, Length: 440, dtype: float64"
      ]
     },
     "execution_count": 67,
     "metadata": {},
     "output_type": "execute_result"
    }
   ],
   "source": [
    "df4.groupby(\"brand\")[\"total\"].mean().sort_values(ascending=False)"
   ]
  },
  {
   "cell_type": "code",
   "execution_count": 68,
   "id": "8d887848",
   "metadata": {},
   "outputs": [
    {
     "data": {
      "text/plain": [
       "brand\n",
       "Goyard          611.456926\n",
       "Loewe           461.082817\n",
       "Needles         314.338133\n",
       "Hermes          267.749153\n",
       "Craig Green     266.792684\n",
       "                   ...    \n",
       "Canada Goose      6.195821\n",
       "NICCE             5.377624\n",
       "Skinnydip         4.740491\n",
       "COS               1.189748\n",
       "Old Navy          0.960680\n",
       "Name: total, Length: 440, dtype: float64"
      ]
     },
     "execution_count": 68,
     "metadata": {},
     "output_type": "execute_result"
    }
   ],
   "source": [
    "df44 = df4.groupby(\"brand\")[\"total\"].mean().sort_values(ascending=False)\n",
    "df44"
   ]
  },
  {
   "cell_type": "code",
   "execution_count": 69,
   "id": "04acedde",
   "metadata": {},
   "outputs": [
    {
     "data": {
      "text/html": [
       "<div>\n",
       "<style scoped>\n",
       "    .dataframe tbody tr th:only-of-type {\n",
       "        vertical-align: middle;\n",
       "    }\n",
       "\n",
       "    .dataframe tbody tr th {\n",
       "        vertical-align: top;\n",
       "    }\n",
       "\n",
       "    .dataframe thead th {\n",
       "        text-align: right;\n",
       "    }\n",
       "</style>\n",
       "<table border=\"1\" class=\"dataframe\">\n",
       "  <thead>\n",
       "    <tr style=\"text-align: right;\">\n",
       "      <th></th>\n",
       "      <th>total_x</th>\n",
       "      <th>total_y</th>\n",
       "    </tr>\n",
       "    <tr>\n",
       "      <th>brand</th>\n",
       "      <th></th>\n",
       "      <th></th>\n",
       "    </tr>\n",
       "  </thead>\n",
       "  <tbody>\n",
       "    <tr>\n",
       "      <th>Canada Goose</th>\n",
       "      <td>216.424622</td>\n",
       "      <td>6.195821</td>\n",
       "    </tr>\n",
       "    <tr>\n",
       "      <th>Goyard</th>\n",
       "      <td>202.661941</td>\n",
       "      <td>611.456926</td>\n",
       "    </tr>\n",
       "    <tr>\n",
       "      <th>Christian Louboutin</th>\n",
       "      <td>189.524004</td>\n",
       "      <td>173.231934</td>\n",
       "    </tr>\n",
       "    <tr>\n",
       "      <th>Rick Owens</th>\n",
       "      <td>181.538313</td>\n",
       "      <td>60.112860</td>\n",
       "    </tr>\n",
       "    <tr>\n",
       "      <th>Yeezy</th>\n",
       "      <td>180.944067</td>\n",
       "      <td>160.748958</td>\n",
       "    </tr>\n",
       "    <tr>\n",
       "      <th>...</th>\n",
       "      <td>...</td>\n",
       "      <td>...</td>\n",
       "    </tr>\n",
       "    <tr>\n",
       "      <th>NYX</th>\n",
       "      <td>8.270853</td>\n",
       "      <td>8.005782</td>\n",
       "    </tr>\n",
       "    <tr>\n",
       "      <th>Romwe</th>\n",
       "      <td>7.795899</td>\n",
       "      <td>35.697774</td>\n",
       "    </tr>\n",
       "    <tr>\n",
       "      <th>Vintage Havana</th>\n",
       "      <td>7.680359</td>\n",
       "      <td>33.118412</td>\n",
       "    </tr>\n",
       "    <tr>\n",
       "      <th>Barry M</th>\n",
       "      <td>6.114212</td>\n",
       "      <td>13.413601</td>\n",
       "    </tr>\n",
       "    <tr>\n",
       "      <th>Sleek</th>\n",
       "      <td>5.186274</td>\n",
       "      <td>7.044906</td>\n",
       "    </tr>\n",
       "  </tbody>\n",
       "</table>\n",
       "<p>427 rows × 2 columns</p>\n",
       "</div>"
      ],
      "text/plain": [
       "                        total_x     total_y\n",
       "brand                                      \n",
       "Canada Goose         216.424622    6.195821\n",
       "Goyard               202.661941  611.456926\n",
       "Christian Louboutin  189.524004  173.231934\n",
       "Rick Owens           181.538313   60.112860\n",
       "Yeezy                180.944067  160.748958\n",
       "...                         ...         ...\n",
       "NYX                    8.270853    8.005782\n",
       "Romwe                  7.795899   35.697774\n",
       "Vintage Havana         7.680359   33.118412\n",
       "Barry M                6.114212   13.413601\n",
       "Sleek                  5.186274    7.044906\n",
       "\n",
       "[427 rows x 2 columns]"
      ]
     },
     "execution_count": 69,
     "metadata": {},
     "output_type": "execute_result"
    }
   ],
   "source": [
    "df_new2 = pd.merge(df33, df44, on = [\"brand\"])\n",
    "df_new2"
   ]
  },
  {
   "cell_type": "code",
   "execution_count": 70,
   "id": "7118046b",
   "metadata": {},
   "outputs": [
    {
     "data": {
      "text/plain": [
       "408.7949845812932"
      ]
     },
     "execution_count": 70,
     "metadata": {},
     "output_type": "execute_result"
    }
   ],
   "source": [
    "abs(df_new2[\"total_x\"] - df_new2[\"total_y\"]).max()"
   ]
  },
  {
   "cell_type": "code",
   "execution_count": 71,
   "id": "8f7a0e5b",
   "metadata": {},
   "outputs": [
    {
     "data": {
      "text/plain": [
       "'Goyard'"
      ]
     },
     "execution_count": 71,
     "metadata": {},
     "output_type": "execute_result"
    }
   ],
   "source": [
    "abs(df_new2[\"total_x\"] - df_new2[\"total_y\"]).idxmax()"
   ]
  },
  {
   "cell_type": "markdown",
   "id": "6d2e50f4",
   "metadata": {},
   "source": [
    "# THE END"
   ]
  }
 ],
 "metadata": {
  "kernelspec": {
   "display_name": "Python 3 (ipykernel)",
   "language": "python",
   "name": "python3"
  },
  "language_info": {
   "codemirror_mode": {
    "name": "ipython",
    "version": 3
   },
   "file_extension": ".py",
   "mimetype": "text/x-python",
   "name": "python",
   "nbconvert_exporter": "python",
   "pygments_lexer": "ipython3",
   "version": "3.9.7"
  }
 },
 "nbformat": 4,
 "nbformat_minor": 5
}
