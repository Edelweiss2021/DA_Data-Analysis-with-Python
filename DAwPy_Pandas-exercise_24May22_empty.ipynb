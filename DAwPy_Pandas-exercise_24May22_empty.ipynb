{
 "cells": [
  {
   "cell_type": "markdown",
   "id": "b85e6ad5",
   "metadata": {},
   "source": [
    "<img src=https://i.ibb.co/6gCsHd6/1200px-Pandas-logo-svg.png width=\"500\" height=\"200\">\n",
    "\n",
    "## <p style=\"background-color:#FDFEFE; font-family:newtimeroman; color:#060108; font-size:200%; text-align:center; border-radius:10px 10px;\">Python Pandas Exercise</p>\n",
    "\n",
    "## <p style=\"background-color:#FDFEFE; font-family:newtimeroman; color:#060108; font-size:150%; text-align:center; border-radius:10px 10px;\">Teamwork Mentoring Group Week-4</p>\n",
    "\n",
    "## <p style=\"background-color:#FDFEFE; font-family:newtimeroman; color:#4d77cf; font-size:200%; text-align:center; border-radius:10px 10px;\">24 May 2022</p>"
   ]
  },
  {
   "cell_type": "markdown",
   "id": "8b5d73bb",
   "metadata": {},
   "source": [
    "https://pynative.com/python-pandas-exercise/"
   ]
  },
  {
   "cell_type": "markdown",
   "id": "da00e340",
   "metadata": {},
   "source": [
    "This Pandas exercise project will help Python developers to learn and practice pandas. Pandas is an open-source, BSD-licensed Python library. Pandas is a handy and useful data-structure tool for analyzing large and complex data.\n",
    "\n",
    "Practice DataFrame, Data Selection, Group-By, Series, Sorting, Searching, statistics. Practice Data analysis using Pandas.\n",
    "\n",
    "In this exercise, we are using Automobile Dataset for data analysis. This Dataset has different characteristics of an auto such as body-style, wheel-base, engine-type, price, mileage, horsepower, etc."
   ]
  },
  {
   "cell_type": "markdown",
   "id": "5dcfa991",
   "metadata": {},
   "source": [
    "## <p style=\"background-color:#896ce0; font-family:newtimeroman; color:#FFF9ED; font-size:175%; text-align:center; border-radius:10px 10px;\">Import Libraries Needed in This Notebook</p>"
   ]
  },
  {
   "cell_type": "code",
   "execution_count": 1,
   "id": "edf1fa1d",
   "metadata": {},
   "outputs": [],
   "source": [
    "import numpy as np\n",
    "import pandas as pd\n",
    "\n",
    "import matplotlib.pyplot as plt\n",
    "from matplotlib import style\n",
    "import matplotlib\n",
    "\n",
    "import seaborn as sns\n",
    "\n",
    "%matplotlib inline"
   ]
  },
  {
   "cell_type": "markdown",
   "id": "9fe9fb21",
   "metadata": {},
   "source": [
    "## <p style=\"background-color:#896ce0; font-family:newtimeroman; color:#FFF9ED; font-size:175%; text-align:center; border-radius:10px 10px;\">Create DataFrame from `Automobile_data.csv` file</p>"
   ]
  },
  {
   "cell_type": "code",
   "execution_count": null,
   "id": "8643c60a",
   "metadata": {},
   "outputs": [],
   "source": []
  },
  {
   "cell_type": "code",
   "execution_count": null,
   "id": "a37372eb",
   "metadata": {},
   "outputs": [],
   "source": []
  },
  {
   "cell_type": "markdown",
   "id": "2912f9be",
   "metadata": {},
   "source": [
    "## <p style=\"background-color:#d64161; font-family:newtimeroman; color:#FFF9ED; font-size:125%; text-align:center; border-radius:10px 10px;\">Exercise 1: From the given dataset print the first and last five rows</p>"
   ]
  },
  {
   "cell_type": "code",
   "execution_count": null,
   "id": "4bd44829",
   "metadata": {},
   "outputs": [],
   "source": []
  },
  {
   "cell_type": "code",
   "execution_count": null,
   "id": "78856006",
   "metadata": {},
   "outputs": [],
   "source": []
  },
  {
   "cell_type": "markdown",
   "id": "e9f6224b",
   "metadata": {},
   "source": [
    "## <p style=\"background-color:#d64161; font-family:newtimeroman; color:#FFF9ED; font-size:125%; text-align:center; border-radius:10px 10px;\">Exercise 2: Clean the dataset and update the CSV file</p>"
   ]
  },
  {
   "cell_type": "markdown",
   "id": "c01ee88b",
   "metadata": {},
   "source": [
    "Replace all column values which contain `?`, `n.a`, or `NaN`."
   ]
  },
  {
   "cell_type": "code",
   "execution_count": null,
   "id": "13fda09c",
   "metadata": {},
   "outputs": [],
   "source": []
  },
  {
   "cell_type": "markdown",
   "id": "eb3b8326",
   "metadata": {},
   "source": [
    "## <p style=\"background-color:#d64161; font-family:newtimeroman; color:#FFF9ED; font-size:125%; text-align:center; border-radius:10px 10px;\">Exercise 3: Find the most expensive car company name</p>"
   ]
  },
  {
   "cell_type": "code",
   "execution_count": null,
   "id": "233f8d11",
   "metadata": {},
   "outputs": [],
   "source": []
  },
  {
   "cell_type": "markdown",
   "id": "69bbf2ec",
   "metadata": {},
   "source": [
    "## <p style=\"background-color:#d64161; font-family:newtimeroman; color:#FFF9ED; font-size:125%; text-align:center; border-radius:10px 10px;\">Exercise 4: Print All Toyota Cars details</p>"
   ]
  },
  {
   "cell_type": "code",
   "execution_count": null,
   "id": "b5232adb",
   "metadata": {},
   "outputs": [],
   "source": []
  },
  {
   "cell_type": "markdown",
   "id": "76640876",
   "metadata": {},
   "source": [
    "## <p style=\"background-color:#d64161; font-family:newtimeroman; color:#FFF9ED; font-size:125%; text-align:center; border-radius:10px 10px;\">Exercise 5: Count total cars per company</p>"
   ]
  },
  {
   "cell_type": "code",
   "execution_count": null,
   "id": "2a3befe4",
   "metadata": {},
   "outputs": [],
   "source": []
  },
  {
   "cell_type": "markdown",
   "id": "bf2cb7fa",
   "metadata": {},
   "source": [
    "## <p style=\"background-color:#d64161; font-family:newtimeroman; color:#FFF9ED; font-size:125%; text-align:center; border-radius:10px 10px;\">Exercise 6: Find each company’s Highesht price car</p>"
   ]
  },
  {
   "cell_type": "code",
   "execution_count": null,
   "id": "0476eace",
   "metadata": {},
   "outputs": [],
   "source": []
  },
  {
   "cell_type": "markdown",
   "id": "6e9cb18a",
   "metadata": {},
   "source": [
    "## <p style=\"background-color:#d64161; font-family:newtimeroman; color:#FFF9ED; font-size:125%; text-align:center; border-radius:10px 10px;\">Exercise 7: Find the average mileage of each car making company</p>"
   ]
  },
  {
   "cell_type": "markdown",
   "id": "ebabb89e",
   "metadata": {},
   "source": [
    "Python Pandas printing average mileage of each car making company"
   ]
  },
  {
   "cell_type": "code",
   "execution_count": null,
   "id": "e87958ea",
   "metadata": {},
   "outputs": [],
   "source": []
  },
  {
   "cell_type": "markdown",
   "id": "c07feaa8",
   "metadata": {},
   "source": [
    "## <p style=\"background-color:#d64161; font-family:newtimeroman; color:#FFF9ED; font-size:125%; text-align:center; border-radius:10px 10px;\">Exercise 8: Sort all cars by Price column</p>"
   ]
  },
  {
   "cell_type": "markdown",
   "id": "bfbd7a33",
   "metadata": {},
   "source": [
    "Python Pandas sort all cars by price column"
   ]
  },
  {
   "cell_type": "code",
   "execution_count": null,
   "id": "874d75e7",
   "metadata": {},
   "outputs": [],
   "source": []
  },
  {
   "cell_type": "markdown",
   "id": "00b3f078",
   "metadata": {},
   "source": [
    "## <p style=\"background-color:#d64161; font-family:newtimeroman; color:#FFF9ED; font-size:125%; text-align:center; border-radius:10px 10px;\">Exercise 9: Concatenate two data frames using the following conditions</p>"
   ]
  },
  {
   "cell_type": "markdown",
   "id": "fb22a31a",
   "metadata": {},
   "source": [
    "Create two data frames using the following two dictionaries.\n",
    "\n",
    "```\n",
    "GermanCars = {'Company': ['Ford', 'Mercedes', 'BMV', 'Audi'], 'Price': [23845, 171995, 135925 , 71400]}\n",
    "japaneseCars = {'Company': ['Toyota', 'Honda', 'Nissan', 'Mitsubishi '], 'Price': [29995, 23600, 61500 , 58900]}\n",
    "\n",
    "```\n",
    "\n",
    "Python Pandas concatenate two data frames and create a key for each data frame"
   ]
  },
  {
   "cell_type": "code",
   "execution_count": null,
   "id": "740a0e95",
   "metadata": {},
   "outputs": [],
   "source": []
  },
  {
   "cell_type": "markdown",
   "id": "308cf293",
   "metadata": {},
   "source": [
    "## <p style=\"background-color:#d64161; font-family:newtimeroman; color:#FFF9ED; font-size:125%; text-align:center; border-radius:10px 10px;\">Exercise 10: Merge two data frames using the following condition</p>"
   ]
  },
  {
   "cell_type": "markdown",
   "id": "778b8281",
   "metadata": {},
   "source": [
    "Create two data frames using the following two Dicts, Merge two data frames, and append the second data frame as a new column to the first data frame.\n",
    "\n",
    "```\n",
    "Car_Price = {'Company': ['Toyota', 'Honda', 'BMV', 'Audi'], 'Price': [23845, 17995, 135925 , 71400]}\n",
    "car_Horsepower = {'Company': ['Toyota', 'Honda', 'BMV', 'Audi'], 'horsepower': [141, 80, 182 , 160]}\n",
    "\n",
    "```\n",
    "\n",
    "Python Pandas merge two data frames and append new data frame as a new column"
   ]
  },
  {
   "cell_type": "code",
   "execution_count": null,
   "id": "c167ed88",
   "metadata": {},
   "outputs": [],
   "source": []
  }
 ],
 "metadata": {
  "kernelspec": {
   "display_name": "Python 3 (ipykernel)",
   "language": "python",
   "name": "python3"
  },
  "language_info": {
   "codemirror_mode": {
    "name": "ipython",
    "version": 3
   },
   "file_extension": ".py",
   "mimetype": "text/x-python",
   "name": "python",
   "nbconvert_exporter": "python",
   "pygments_lexer": "ipython3",
   "version": "3.9.7"
  }
 },
 "nbformat": 4,
 "nbformat_minor": 5
}
