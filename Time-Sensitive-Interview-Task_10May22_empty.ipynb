{
 "cells": [
  {
   "cell_type": "markdown",
   "id": "5be3ac0d",
   "metadata": {},
   "source": [
    "# Time Sensitive Real Interview Questions-1"
   ]
  },
  {
   "cell_type": "markdown",
   "id": "ff956190",
   "metadata": {},
   "source": [
    "Use 'sales_082020.csv' and 'currency_rates_082020_EUR.csv' files"
   ]
  },
  {
   "cell_type": "markdown",
   "id": "3996c2f4",
   "metadata": {},
   "source": [
    "**Import libraries**"
   ]
  },
  {
   "cell_type": "code",
   "execution_count": null,
   "id": "ed7fefb9",
   "metadata": {},
   "outputs": [],
   "source": []
  },
  {
   "cell_type": "markdown",
   "id": "75a9c2c6",
   "metadata": {},
   "source": [
    " \n",
    "1. How many rows in the sales dataset?(Just write the numbers in the format of 000.000)"
   ]
  },
  {
   "cell_type": "code",
   "execution_count": null,
   "id": "20fa26a6",
   "metadata": {},
   "outputs": [],
   "source": []
  },
  {
   "cell_type": "code",
   "execution_count": null,
   "id": "633ed5a8",
   "metadata": {},
   "outputs": [],
   "source": []
  },
  {
   "cell_type": "markdown",
   "id": "8d7cbca8",
   "metadata": {},
   "source": [
    " \n",
    "2. How many columns in the sales dataset?(Just write the numbers) "
   ]
  },
  {
   "cell_type": "code",
   "execution_count": null,
   "id": "7637ee57",
   "metadata": {},
   "outputs": [],
   "source": []
  },
  {
   "cell_type": "code",
   "execution_count": null,
   "id": "69168d47",
   "metadata": {},
   "outputs": [],
   "source": []
  },
  {
   "cell_type": "markdown",
   "id": "a98a0308",
   "metadata": {},
   "source": [
    "3. What is the total number of sellers?(Just write the numbers in the format of 000.000)"
   ]
  },
  {
   "cell_type": "code",
   "execution_count": null,
   "id": "34741b33",
   "metadata": {},
   "outputs": [],
   "source": []
  },
  {
   "cell_type": "code",
   "execution_count": null,
   "id": "d61f07e6",
   "metadata": {},
   "outputs": [],
   "source": []
  },
  {
   "cell_type": "markdown",
   "id": "e58a39f6",
   "metadata": {},
   "source": [
    " \n",
    "4. What is the total value of sales in EUR?(Just write the numbers in the format of 0.000.000 )"
   ]
  },
  {
   "cell_type": "code",
   "execution_count": null,
   "id": "aefb71d8",
   "metadata": {},
   "outputs": [],
   "source": []
  },
  {
   "cell_type": "code",
   "execution_count": null,
   "id": "0fb062f5",
   "metadata": {},
   "outputs": [],
   "source": []
  },
  {
   "cell_type": "markdown",
   "id": "baab7dcd",
   "metadata": {},
   "source": [
    "5. Which brand has the highest number of purchases during the period?(Just write down the brand as in the dataset, your answer is supposed to be case sensitive)"
   ]
  },
  {
   "cell_type": "code",
   "execution_count": null,
   "id": "fff9ad97",
   "metadata": {},
   "outputs": [],
   "source": []
  },
  {
   "cell_type": "code",
   "execution_count": null,
   "id": "21fe5a1e",
   "metadata": {},
   "outputs": [],
   "source": []
  },
  {
   "cell_type": "markdown",
   "id": "4950a8d0",
   "metadata": {},
   "source": [
    "6. How many items in the “Jewellery” category have no brand associated with them?(Just write the numbers in the format of 00.000)"
   ]
  },
  {
   "cell_type": "code",
   "execution_count": null,
   "id": "f35ab85f",
   "metadata": {},
   "outputs": [],
   "source": []
  },
  {
   "cell_type": "code",
   "execution_count": null,
   "id": "c2e08039",
   "metadata": {},
   "outputs": [],
   "source": []
  },
  {
   "cell_type": "markdown",
   "id": "b020de3b",
   "metadata": {},
   "source": [
    " \n",
    "7. How many brands have between 35 and 55 transactions (inclusive)?(Just write the numbers)"
   ]
  },
  {
   "cell_type": "code",
   "execution_count": null,
   "id": "f9d68416",
   "metadata": {},
   "outputs": [],
   "source": []
  },
  {
   "cell_type": "code",
   "execution_count": null,
   "id": "ada6ffe9",
   "metadata": {},
   "outputs": [],
   "source": []
  },
  {
   "cell_type": "markdown",
   "id": "d261f362",
   "metadata": {},
   "source": [
    " \n",
    "8. How many pairs of shoes were purchased by Australian (AU) buyers?(Just write the the numbers)"
   ]
  },
  {
   "cell_type": "code",
   "execution_count": null,
   "id": "347efb5a",
   "metadata": {},
   "outputs": [],
   "source": []
  },
  {
   "cell_type": "code",
   "execution_count": null,
   "id": "8b31aa00",
   "metadata": {},
   "outputs": [],
   "source": []
  },
  {
   "cell_type": "markdown",
   "id": "b8aff4aa",
   "metadata": {},
   "source": [
    " \n",
    "9. Which brand has the highest average transaction value? (Just write down the brand as in the dataset, your answer is supposed to be case sensitive)"
   ]
  },
  {
   "cell_type": "code",
   "execution_count": null,
   "id": "97b5922d",
   "metadata": {},
   "outputs": [],
   "source": []
  },
  {
   "cell_type": "code",
   "execution_count": null,
   "id": "3d65c7b8",
   "metadata": {},
   "outputs": [],
   "source": []
  },
  {
   "cell_type": "markdown",
   "id": "22c9dc23",
   "metadata": {},
   "source": [
    "10. What is the total value of items purchased by GB buyers from GB sellers? (Just write the numbers in the format of 0.000.000 )"
   ]
  },
  {
   "cell_type": "code",
   "execution_count": null,
   "id": "075ae095",
   "metadata": {},
   "outputs": [],
   "source": []
  },
  {
   "cell_type": "code",
   "execution_count": null,
   "id": "bbc8cebe",
   "metadata": {},
   "outputs": [],
   "source": []
  },
  {
   "cell_type": "markdown",
   "id": "a38d3489",
   "metadata": {},
   "source": [
    "11. What percentage of US sellers' transactions were purchased by US buyers? (Just write the percentage in the format of 00.00%)"
   ]
  },
  {
   "cell_type": "code",
   "execution_count": null,
   "id": "6081ccaa",
   "metadata": {},
   "outputs": [],
   "source": []
  },
  {
   "cell_type": "code",
   "execution_count": null,
   "id": "656b1843",
   "metadata": {},
   "outputs": [],
   "source": []
  },
  {
   "cell_type": "markdown",
   "id": "6d2e50f4",
   "metadata": {},
   "source": [
    "# THE END"
   ]
  }
 ],
 "metadata": {
  "kernelspec": {
   "display_name": "Python 3 (ipykernel)",
   "language": "python",
   "name": "python3"
  },
  "language_info": {
   "codemirror_mode": {
    "name": "ipython",
    "version": 3
   },
   "file_extension": ".py",
   "mimetype": "text/x-python",
   "name": "python",
   "nbconvert_exporter": "python",
   "pygments_lexer": "ipython3",
   "version": "3.9.7"
  }
 },
 "nbformat": 4,
 "nbformat_minor": 5
}
