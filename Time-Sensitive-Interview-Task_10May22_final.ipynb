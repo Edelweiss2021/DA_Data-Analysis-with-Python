{
 "cells": [
  {
   "cell_type": "markdown",
   "id": "1bdd5176",
   "metadata": {},
   "source": [
    "# Time Sensitive Real Interview Questions-1"
   ]
  },
  {
   "cell_type": "markdown",
   "id": "bb7d1dc5",
   "metadata": {},
   "source": [
    "Use 'sales_082020.csv' and 'currency_rates_082020_EUR.csv' files"
   ]
  },
  {
   "cell_type": "markdown",
   "id": "a790db3a",
   "metadata": {},
   "source": [
    "**Import libraries**"
   ]
  },
  {
   "cell_type": "code",
   "execution_count": 140,
   "id": "cdb750ae",
   "metadata": {},
   "outputs": [],
   "source": [
    "import numpy as np\n",
    "import pandas as pd\n",
    "import seaborn as sns"
   ]
  },
  {
   "cell_type": "markdown",
   "id": "3706ce64",
   "metadata": {},
   "source": [
    " \n",
    "1. How many rows in the sales dataset?(Just write the numbers in the format of 000.000)"
   ]
  },
  {
   "cell_type": "code",
   "execution_count": 141,
   "id": "7597fd75",
   "metadata": {},
   "outputs": [],
   "source": [
    "sales_df = pd.read_csv('sales_082020.csv')"
   ]
  },
  {
   "cell_type": "code",
   "execution_count": 147,
   "id": "3c19ac6c",
   "metadata": {},
   "outputs": [],
   "source": [
    "currency_df = pd.read_csv('currency_rates_082020_EUR.csv')"
   ]
  },
  {
   "cell_type": "code",
   "execution_count": 142,
   "id": "82f73ebe",
   "metadata": {},
   "outputs": [
    {
     "name": "stdout",
     "output_type": "stream",
     "text": [
      "<class 'pandas.core.frame.DataFrame'>\n",
      "RangeIndex: 237671 entries, 0 to 237670\n",
      "Data columns (total 10 columns):\n",
      " #   Column          Non-Null Count   Dtype  \n",
      "---  ------          --------------   -----  \n",
      " 0   buyer_id        237671 non-null  object \n",
      " 1   buyer_country   237671 non-null  object \n",
      " 2   seller_id       237671 non-null  object \n",
      " 3   seller_country  237671 non-null  object \n",
      " 4   product_code    237671 non-null  object \n",
      " 5   category        237655 non-null  object \n",
      " 6   brand           119330 non-null  object \n",
      " 7   currency        237671 non-null  object \n",
      " 8   price           237671 non-null  float64\n",
      " 9   date            237671 non-null  object \n",
      "dtypes: float64(1), object(9)\n",
      "memory usage: 18.1+ MB\n"
     ]
    }
   ],
   "source": [
    "sales_df.info()"
   ]
  },
  {
   "cell_type": "markdown",
   "id": "100b476f",
   "metadata": {},
   "source": [
    " \n",
    "2. How many columns in the sales dataset?(Just write the numbers) "
   ]
  },
  {
   "cell_type": "code",
   "execution_count": null,
   "id": "d6f1e059",
   "metadata": {},
   "outputs": [],
   "source": []
  },
  {
   "cell_type": "markdown",
   "id": "26e086de",
   "metadata": {},
   "source": [
    "3. What is the total number of sellers?(Just write the numbers in the format of 000.000)"
   ]
  },
  {
   "cell_type": "code",
   "execution_count": 143,
   "id": "2fd943bd",
   "metadata": {
    "scrolled": true
   },
   "outputs": [
    {
     "data": {
      "text/html": [
       "<div>\n",
       "<style scoped>\n",
       "    .dataframe tbody tr th:only-of-type {\n",
       "        vertical-align: middle;\n",
       "    }\n",
       "\n",
       "    .dataframe tbody tr th {\n",
       "        vertical-align: top;\n",
       "    }\n",
       "\n",
       "    .dataframe thead th {\n",
       "        text-align: right;\n",
       "    }\n",
       "</style>\n",
       "<table border=\"1\" class=\"dataframe\">\n",
       "  <thead>\n",
       "    <tr style=\"text-align: right;\">\n",
       "      <th></th>\n",
       "      <th>buyer_id</th>\n",
       "      <th>buyer_country</th>\n",
       "      <th>seller_id</th>\n",
       "      <th>seller_country</th>\n",
       "      <th>product_code</th>\n",
       "      <th>category</th>\n",
       "      <th>brand</th>\n",
       "      <th>currency</th>\n",
       "      <th>price</th>\n",
       "      <th>date</th>\n",
       "    </tr>\n",
       "  </thead>\n",
       "  <tbody>\n",
       "    <tr>\n",
       "      <th>0</th>\n",
       "      <td>qzpjsi9t0o</td>\n",
       "      <td>GB</td>\n",
       "      <td>6oufpaot</td>\n",
       "      <td>GB</td>\n",
       "      <td>ydecnydr6obf</td>\n",
       "      <td>Dresses</td>\n",
       "      <td>NaN</td>\n",
       "      <td>GBP</td>\n",
       "      <td>19.11</td>\n",
       "      <td>2020-08-03</td>\n",
       "    </tr>\n",
       "    <tr>\n",
       "      <th>1</th>\n",
       "      <td>o79pns1qwo</td>\n",
       "      <td>GB</td>\n",
       "      <td>50xki2yg</td>\n",
       "      <td>GB</td>\n",
       "      <td>38chj507o6h2</td>\n",
       "      <td>Outerwear</td>\n",
       "      <td>Adidas Originals</td>\n",
       "      <td>GBP</td>\n",
       "      <td>15.92</td>\n",
       "      <td>2020-08-09</td>\n",
       "    </tr>\n",
       "    <tr>\n",
       "      <th>2</th>\n",
       "      <td>sjgbjdkhqx</td>\n",
       "      <td>GB</td>\n",
       "      <td>50xki2yg</td>\n",
       "      <td>GB</td>\n",
       "      <td>i9ynyxj5tdp8</td>\n",
       "      <td>Tops - Mens</td>\n",
       "      <td>NaN</td>\n",
       "      <td>GBP</td>\n",
       "      <td>6.37</td>\n",
       "      <td>2020-08-07</td>\n",
       "    </tr>\n",
       "    <tr>\n",
       "      <th>3</th>\n",
       "      <td>o79pns1qwo</td>\n",
       "      <td>GB</td>\n",
       "      <td>s0p322hh</td>\n",
       "      <td>GB</td>\n",
       "      <td>t50xe7moye8v</td>\n",
       "      <td>Tops - Mens</td>\n",
       "      <td>Berghaus</td>\n",
       "      <td>GBP</td>\n",
       "      <td>25.27</td>\n",
       "      <td>2020-08-09</td>\n",
       "    </tr>\n",
       "    <tr>\n",
       "      <th>4</th>\n",
       "      <td>o79pns1qwo</td>\n",
       "      <td>GB</td>\n",
       "      <td>dpkx192v</td>\n",
       "      <td>GB</td>\n",
       "      <td>hp4r9bjq68af</td>\n",
       "      <td>Bottoms - Womens</td>\n",
       "      <td>NaN</td>\n",
       "      <td>GBP</td>\n",
       "      <td>8.90</td>\n",
       "      <td>2020-08-09</td>\n",
       "    </tr>\n",
       "  </tbody>\n",
       "</table>\n",
       "</div>"
      ],
      "text/plain": [
       "     buyer_id buyer_country seller_id seller_country  product_code  \\\n",
       "0  qzpjsi9t0o            GB  6oufpaot             GB  ydecnydr6obf   \n",
       "1  o79pns1qwo            GB  50xki2yg             GB  38chj507o6h2   \n",
       "2  sjgbjdkhqx            GB  50xki2yg             GB  i9ynyxj5tdp8   \n",
       "3  o79pns1qwo            GB  s0p322hh             GB  t50xe7moye8v   \n",
       "4  o79pns1qwo            GB  dpkx192v             GB  hp4r9bjq68af   \n",
       "\n",
       "           category             brand currency  price        date  \n",
       "0           Dresses               NaN      GBP  19.11  2020-08-03  \n",
       "1         Outerwear  Adidas Originals      GBP  15.92  2020-08-09  \n",
       "2       Tops - Mens               NaN      GBP   6.37  2020-08-07  \n",
       "3       Tops - Mens          Berghaus      GBP  25.27  2020-08-09  \n",
       "4  Bottoms - Womens               NaN      GBP   8.90  2020-08-09  "
      ]
     },
     "execution_count": 143,
     "metadata": {},
     "output_type": "execute_result"
    }
   ],
   "source": [
    "sales_df.head()"
   ]
  },
  {
   "cell_type": "code",
   "execution_count": 144,
   "id": "f64669f4",
   "metadata": {},
   "outputs": [
    {
     "data": {
      "text/plain": [
       "pzsiehl0    703\n",
       "wd3rgi3q    525\n",
       "j21w87xy    500\n",
       "dbm0o9qu    436\n",
       "hbtm3tdy    316\n",
       "           ... \n",
       "b79drc4f      1\n",
       "ivtfeqcd      1\n",
       "uvfzdgb4      1\n",
       "pbrox97s      1\n",
       "0au7baxi      1\n",
       "Name: seller_id, Length: 114227, dtype: int64"
      ]
     },
     "execution_count": 144,
     "metadata": {},
     "output_type": "execute_result"
    }
   ],
   "source": [
    "sales_df[\"seller_id\"].value_counts()"
   ]
  },
  {
   "cell_type": "code",
   "execution_count": 145,
   "id": "e9c8b9ad",
   "metadata": {},
   "outputs": [
    {
     "data": {
      "text/plain": [
       "114227"
      ]
     },
     "execution_count": 145,
     "metadata": {},
     "output_type": "execute_result"
    }
   ],
   "source": [
    "sales_df.seller_id.nunique()"
   ]
  },
  {
   "cell_type": "markdown",
   "id": "8b21182f",
   "metadata": {},
   "source": [
    " \n",
    "4. What is the total value of sales in EUR?(Just write the numbers in the format of 0.000.000 )"
   ]
  },
  {
   "cell_type": "code",
   "execution_count": 152,
   "id": "112e340b",
   "metadata": {},
   "outputs": [
    {
     "data": {
      "text/plain": [
       "0    8/1/2020\n",
       "1    8/2/2020\n",
       "2    8/3/2020\n",
       "3    8/4/2020\n",
       "4    8/5/2020\n",
       "Name: date, dtype: object"
      ]
     },
     "execution_count": 152,
     "metadata": {},
     "output_type": "execute_result"
    }
   ],
   "source": [
    "currency_df.date.head()"
   ]
  },
  {
   "cell_type": "code",
   "execution_count": 155,
   "id": "26a6f4ff",
   "metadata": {},
   "outputs": [],
   "source": [
    "sales_df.date = pd.to_datetime(sales_df.date)"
   ]
  },
  {
   "cell_type": "code",
   "execution_count": 157,
   "id": "809e7ab8",
   "metadata": {},
   "outputs": [
    {
     "data": {
      "text/plain": [
       "0   2020-08-03\n",
       "1   2020-08-09\n",
       "2   2020-08-07\n",
       "3   2020-08-09\n",
       "4   2020-08-09\n",
       "Name: date, dtype: datetime64[ns]"
      ]
     },
     "execution_count": 157,
     "metadata": {},
     "output_type": "execute_result"
    }
   ],
   "source": [
    "sales_df.date.head() "
   ]
  },
  {
   "cell_type": "code",
   "execution_count": 156,
   "id": "5f04483d",
   "metadata": {},
   "outputs": [
    {
     "data": {
      "text/html": [
       "<div>\n",
       "<style scoped>\n",
       "    .dataframe tbody tr th:only-of-type {\n",
       "        vertical-align: middle;\n",
       "    }\n",
       "\n",
       "    .dataframe tbody tr th {\n",
       "        vertical-align: top;\n",
       "    }\n",
       "\n",
       "    .dataframe thead th {\n",
       "        text-align: right;\n",
       "    }\n",
       "</style>\n",
       "<table border=\"1\" class=\"dataframe\">\n",
       "  <thead>\n",
       "    <tr style=\"text-align: right;\">\n",
       "      <th></th>\n",
       "      <th>buyer_id</th>\n",
       "      <th>buyer_country</th>\n",
       "      <th>seller_id</th>\n",
       "      <th>seller_country</th>\n",
       "      <th>product_code</th>\n",
       "      <th>category</th>\n",
       "      <th>brand</th>\n",
       "      <th>currency</th>\n",
       "      <th>price</th>\n",
       "      <th>date</th>\n",
       "    </tr>\n",
       "  </thead>\n",
       "  <tbody>\n",
       "    <tr>\n",
       "      <th>0</th>\n",
       "      <td>qzpjsi9t0o</td>\n",
       "      <td>GB</td>\n",
       "      <td>6oufpaot</td>\n",
       "      <td>GB</td>\n",
       "      <td>ydecnydr6obf</td>\n",
       "      <td>Dresses</td>\n",
       "      <td>NaN</td>\n",
       "      <td>GBP</td>\n",
       "      <td>19.11</td>\n",
       "      <td>2020-08-03</td>\n",
       "    </tr>\n",
       "    <tr>\n",
       "      <th>1</th>\n",
       "      <td>o79pns1qwo</td>\n",
       "      <td>GB</td>\n",
       "      <td>50xki2yg</td>\n",
       "      <td>GB</td>\n",
       "      <td>38chj507o6h2</td>\n",
       "      <td>Outerwear</td>\n",
       "      <td>Adidas Originals</td>\n",
       "      <td>GBP</td>\n",
       "      <td>15.92</td>\n",
       "      <td>2020-08-09</td>\n",
       "    </tr>\n",
       "    <tr>\n",
       "      <th>2</th>\n",
       "      <td>sjgbjdkhqx</td>\n",
       "      <td>GB</td>\n",
       "      <td>50xki2yg</td>\n",
       "      <td>GB</td>\n",
       "      <td>i9ynyxj5tdp8</td>\n",
       "      <td>Tops - Mens</td>\n",
       "      <td>NaN</td>\n",
       "      <td>GBP</td>\n",
       "      <td>6.37</td>\n",
       "      <td>2020-08-07</td>\n",
       "    </tr>\n",
       "    <tr>\n",
       "      <th>3</th>\n",
       "      <td>o79pns1qwo</td>\n",
       "      <td>GB</td>\n",
       "      <td>s0p322hh</td>\n",
       "      <td>GB</td>\n",
       "      <td>t50xe7moye8v</td>\n",
       "      <td>Tops - Mens</td>\n",
       "      <td>Berghaus</td>\n",
       "      <td>GBP</td>\n",
       "      <td>25.27</td>\n",
       "      <td>2020-08-09</td>\n",
       "    </tr>\n",
       "    <tr>\n",
       "      <th>4</th>\n",
       "      <td>o79pns1qwo</td>\n",
       "      <td>GB</td>\n",
       "      <td>dpkx192v</td>\n",
       "      <td>GB</td>\n",
       "      <td>hp4r9bjq68af</td>\n",
       "      <td>Bottoms - Womens</td>\n",
       "      <td>NaN</td>\n",
       "      <td>GBP</td>\n",
       "      <td>8.90</td>\n",
       "      <td>2020-08-09</td>\n",
       "    </tr>\n",
       "  </tbody>\n",
       "</table>\n",
       "</div>"
      ],
      "text/plain": [
       "     buyer_id buyer_country seller_id seller_country  product_code  \\\n",
       "0  qzpjsi9t0o            GB  6oufpaot             GB  ydecnydr6obf   \n",
       "1  o79pns1qwo            GB  50xki2yg             GB  38chj507o6h2   \n",
       "2  sjgbjdkhqx            GB  50xki2yg             GB  i9ynyxj5tdp8   \n",
       "3  o79pns1qwo            GB  s0p322hh             GB  t50xe7moye8v   \n",
       "4  o79pns1qwo            GB  dpkx192v             GB  hp4r9bjq68af   \n",
       "\n",
       "           category             brand currency  price       date  \n",
       "0           Dresses               NaN      GBP  19.11 2020-08-03  \n",
       "1         Outerwear  Adidas Originals      GBP  15.92 2020-08-09  \n",
       "2       Tops - Mens               NaN      GBP   6.37 2020-08-07  \n",
       "3       Tops - Mens          Berghaus      GBP  25.27 2020-08-09  \n",
       "4  Bottoms - Womens               NaN      GBP   8.90 2020-08-09  "
      ]
     },
     "execution_count": 156,
     "metadata": {},
     "output_type": "execute_result"
    }
   ],
   "source": [
    "sales_df.head()"
   ]
  },
  {
   "cell_type": "code",
   "execution_count": 150,
   "id": "0f60a6f8",
   "metadata": {},
   "outputs": [
    {
     "data": {
      "text/plain": [
       "0    2020-08-03\n",
       "1    2020-08-09\n",
       "2    2020-08-07\n",
       "3    2020-08-09\n",
       "4    2020-08-09\n",
       "Name: date, dtype: object"
      ]
     },
     "execution_count": 150,
     "metadata": {},
     "output_type": "execute_result"
    }
   ],
   "source": [
    "sales_df.date.head()"
   ]
  },
  {
   "cell_type": "code",
   "execution_count": 158,
   "id": "e267da6b",
   "metadata": {},
   "outputs": [],
   "source": [
    "currency_df.date = pd.to_datetime(currency_df.date)"
   ]
  },
  {
   "cell_type": "code",
   "execution_count": 159,
   "id": "6d19f776",
   "metadata": {},
   "outputs": [],
   "source": [
    "df_new = pd.merge(sales_df, currency_df, on=[\"date\", \"currency\"])"
   ]
  },
  {
   "cell_type": "code",
   "execution_count": 160,
   "id": "ebed2060",
   "metadata": {
    "scrolled": false
   },
   "outputs": [
    {
     "data": {
      "text/html": [
       "<div>\n",
       "<style scoped>\n",
       "    .dataframe tbody tr th:only-of-type {\n",
       "        vertical-align: middle;\n",
       "    }\n",
       "\n",
       "    .dataframe tbody tr th {\n",
       "        vertical-align: top;\n",
       "    }\n",
       "\n",
       "    .dataframe thead th {\n",
       "        text-align: right;\n",
       "    }\n",
       "</style>\n",
       "<table border=\"1\" class=\"dataframe\">\n",
       "  <thead>\n",
       "    <tr style=\"text-align: right;\">\n",
       "      <th></th>\n",
       "      <th>buyer_id</th>\n",
       "      <th>buyer_country</th>\n",
       "      <th>seller_id</th>\n",
       "      <th>seller_country</th>\n",
       "      <th>product_code</th>\n",
       "      <th>category</th>\n",
       "      <th>brand</th>\n",
       "      <th>currency</th>\n",
       "      <th>price</th>\n",
       "      <th>date</th>\n",
       "      <th>rate</th>\n",
       "    </tr>\n",
       "  </thead>\n",
       "  <tbody>\n",
       "    <tr>\n",
       "      <th>0</th>\n",
       "      <td>qzpjsi9t0o</td>\n",
       "      <td>GB</td>\n",
       "      <td>6oufpaot</td>\n",
       "      <td>GB</td>\n",
       "      <td>ydecnydr6obf</td>\n",
       "      <td>Dresses</td>\n",
       "      <td>NaN</td>\n",
       "      <td>GBP</td>\n",
       "      <td>19.11</td>\n",
       "      <td>2020-08-03</td>\n",
       "      <td>0.89935</td>\n",
       "    </tr>\n",
       "    <tr>\n",
       "      <th>1</th>\n",
       "      <td>rd209r8c7c</td>\n",
       "      <td>GB</td>\n",
       "      <td>9p2ansc9</td>\n",
       "      <td>GB</td>\n",
       "      <td>wpxxf59cq7pc</td>\n",
       "      <td>Outerwear - Mens</td>\n",
       "      <td>Adidas Originals</td>\n",
       "      <td>GBP</td>\n",
       "      <td>24.91</td>\n",
       "      <td>2020-08-03</td>\n",
       "      <td>0.89935</td>\n",
       "    </tr>\n",
       "    <tr>\n",
       "      <th>2</th>\n",
       "      <td>pqbcrl8azx</td>\n",
       "      <td>GB</td>\n",
       "      <td>r9zmzem8</td>\n",
       "      <td>GB</td>\n",
       "      <td>ua9mmn86wsqy</td>\n",
       "      <td>Tops - Womens</td>\n",
       "      <td>NaN</td>\n",
       "      <td>GBP</td>\n",
       "      <td>19.31</td>\n",
       "      <td>2020-08-03</td>\n",
       "      <td>0.89935</td>\n",
       "    </tr>\n",
       "    <tr>\n",
       "      <th>3</th>\n",
       "      <td>j5en1rwmxp</td>\n",
       "      <td>GB</td>\n",
       "      <td>3o2nz88r</td>\n",
       "      <td>GB</td>\n",
       "      <td>tduo2uy8iszl</td>\n",
       "      <td>Bottoms - Womens</td>\n",
       "      <td>Urban Outfitters</td>\n",
       "      <td>GBP</td>\n",
       "      <td>16.98</td>\n",
       "      <td>2020-08-03</td>\n",
       "      <td>0.89935</td>\n",
       "    </tr>\n",
       "    <tr>\n",
       "      <th>4</th>\n",
       "      <td>kjdezxeh1l</td>\n",
       "      <td>GB</td>\n",
       "      <td>7g56ublf</td>\n",
       "      <td>GB</td>\n",
       "      <td>39o00tcu89zq</td>\n",
       "      <td>Other</td>\n",
       "      <td>NaN</td>\n",
       "      <td>GBP</td>\n",
       "      <td>2.85</td>\n",
       "      <td>2020-08-03</td>\n",
       "      <td>0.89935</td>\n",
       "    </tr>\n",
       "    <tr>\n",
       "      <th>...</th>\n",
       "      <td>...</td>\n",
       "      <td>...</td>\n",
       "      <td>...</td>\n",
       "      <td>...</td>\n",
       "      <td>...</td>\n",
       "      <td>...</td>\n",
       "      <td>...</td>\n",
       "      <td>...</td>\n",
       "      <td>...</td>\n",
       "      <td>...</td>\n",
       "      <td>...</td>\n",
       "    </tr>\n",
       "    <tr>\n",
       "      <th>237666</th>\n",
       "      <td>d7dx6f3qv7</td>\n",
       "      <td>RoW</td>\n",
       "      <td>e2p108mu</td>\n",
       "      <td>RoW</td>\n",
       "      <td>nan9a4p10ayk</td>\n",
       "      <td>Tops - Mens</td>\n",
       "      <td>NaN</td>\n",
       "      <td>PLN</td>\n",
       "      <td>4.24</td>\n",
       "      <td>2020-08-04</td>\n",
       "      <td>4.39693</td>\n",
       "    </tr>\n",
       "    <tr>\n",
       "      <th>237667</th>\n",
       "      <td>iaf2ck3rj6</td>\n",
       "      <td>IT</td>\n",
       "      <td>gjb1qntq</td>\n",
       "      <td>RoW</td>\n",
       "      <td>lxj477q1hab2</td>\n",
       "      <td>Accessories</td>\n",
       "      <td>NaN</td>\n",
       "      <td>CZK</td>\n",
       "      <td>3923.18</td>\n",
       "      <td>2020-08-04</td>\n",
       "      <td>26.12360</td>\n",
       "    </tr>\n",
       "    <tr>\n",
       "      <th>237668</th>\n",
       "      <td>tucgt70cwc</td>\n",
       "      <td>AU</td>\n",
       "      <td>9adnlxvr</td>\n",
       "      <td>RoW</td>\n",
       "      <td>2g0g0obhwjuc</td>\n",
       "      <td>Jewellery</td>\n",
       "      <td>NaN</td>\n",
       "      <td>PLN</td>\n",
       "      <td>525.82</td>\n",
       "      <td>2020-08-09</td>\n",
       "      <td>4.41427</td>\n",
       "    </tr>\n",
       "    <tr>\n",
       "      <th>237669</th>\n",
       "      <td>rrfjxzbdxu</td>\n",
       "      <td>US</td>\n",
       "      <td>w2pozh7u</td>\n",
       "      <td>US</td>\n",
       "      <td>5mm5eg99xbu2</td>\n",
       "      <td>Bottoms - Womens</td>\n",
       "      <td>Brandy Melville</td>\n",
       "      <td>BRL</td>\n",
       "      <td>34.92</td>\n",
       "      <td>2020-08-06</td>\n",
       "      <td>6.33240</td>\n",
       "    </tr>\n",
       "    <tr>\n",
       "      <th>237670</th>\n",
       "      <td>wnmihth4io</td>\n",
       "      <td>GB</td>\n",
       "      <td>5yogzc17</td>\n",
       "      <td>RoW</td>\n",
       "      <td>wrgq88ujwh5d</td>\n",
       "      <td>Bottoms - Womens</td>\n",
       "      <td>NaN</td>\n",
       "      <td>NOK</td>\n",
       "      <td>533.06</td>\n",
       "      <td>2020-08-08</td>\n",
       "      <td>10.64540</td>\n",
       "    </tr>\n",
       "  </tbody>\n",
       "</table>\n",
       "<p>237671 rows × 11 columns</p>\n",
       "</div>"
      ],
      "text/plain": [
       "          buyer_id buyer_country seller_id seller_country  product_code  \\\n",
       "0       qzpjsi9t0o            GB  6oufpaot             GB  ydecnydr6obf   \n",
       "1       rd209r8c7c            GB  9p2ansc9             GB  wpxxf59cq7pc   \n",
       "2       pqbcrl8azx            GB  r9zmzem8             GB  ua9mmn86wsqy   \n",
       "3       j5en1rwmxp            GB  3o2nz88r             GB  tduo2uy8iszl   \n",
       "4       kjdezxeh1l            GB  7g56ublf             GB  39o00tcu89zq   \n",
       "...            ...           ...       ...            ...           ...   \n",
       "237666  d7dx6f3qv7           RoW  e2p108mu            RoW  nan9a4p10ayk   \n",
       "237667  iaf2ck3rj6            IT  gjb1qntq            RoW  lxj477q1hab2   \n",
       "237668  tucgt70cwc            AU  9adnlxvr            RoW  2g0g0obhwjuc   \n",
       "237669  rrfjxzbdxu            US  w2pozh7u             US  5mm5eg99xbu2   \n",
       "237670  wnmihth4io            GB  5yogzc17            RoW  wrgq88ujwh5d   \n",
       "\n",
       "                category             brand currency    price       date  \\\n",
       "0                Dresses               NaN      GBP    19.11 2020-08-03   \n",
       "1       Outerwear - Mens  Adidas Originals      GBP    24.91 2020-08-03   \n",
       "2          Tops - Womens               NaN      GBP    19.31 2020-08-03   \n",
       "3       Bottoms - Womens  Urban Outfitters      GBP    16.98 2020-08-03   \n",
       "4                  Other               NaN      GBP     2.85 2020-08-03   \n",
       "...                  ...               ...      ...      ...        ...   \n",
       "237666       Tops - Mens               NaN      PLN     4.24 2020-08-04   \n",
       "237667       Accessories               NaN      CZK  3923.18 2020-08-04   \n",
       "237668         Jewellery               NaN      PLN   525.82 2020-08-09   \n",
       "237669  Bottoms - Womens   Brandy Melville      BRL    34.92 2020-08-06   \n",
       "237670  Bottoms - Womens               NaN      NOK   533.06 2020-08-08   \n",
       "\n",
       "            rate  \n",
       "0        0.89935  \n",
       "1        0.89935  \n",
       "2        0.89935  \n",
       "3        0.89935  \n",
       "4        0.89935  \n",
       "...          ...  \n",
       "237666   4.39693  \n",
       "237667  26.12360  \n",
       "237668   4.41427  \n",
       "237669   6.33240  \n",
       "237670  10.64540  \n",
       "\n",
       "[237671 rows x 11 columns]"
      ]
     },
     "execution_count": 160,
     "metadata": {},
     "output_type": "execute_result"
    }
   ],
   "source": [
    "df_new"
   ]
  },
  {
   "cell_type": "code",
   "execution_count": 164,
   "id": "4cc15d6a",
   "metadata": {},
   "outputs": [
    {
     "data": {
      "text/html": [
       "<div>\n",
       "<style scoped>\n",
       "    .dataframe tbody tr th:only-of-type {\n",
       "        vertical-align: middle;\n",
       "    }\n",
       "\n",
       "    .dataframe tbody tr th {\n",
       "        vertical-align: top;\n",
       "    }\n",
       "\n",
       "    .dataframe thead th {\n",
       "        text-align: right;\n",
       "    }\n",
       "</style>\n",
       "<table border=\"1\" class=\"dataframe\">\n",
       "  <thead>\n",
       "    <tr style=\"text-align: right;\">\n",
       "      <th></th>\n",
       "      <th>buyer_id</th>\n",
       "      <th>buyer_country</th>\n",
       "      <th>seller_id</th>\n",
       "      <th>seller_country</th>\n",
       "      <th>product_code</th>\n",
       "      <th>category</th>\n",
       "      <th>brand</th>\n",
       "      <th>currency</th>\n",
       "      <th>price</th>\n",
       "      <th>date</th>\n",
       "      <th>rate</th>\n",
       "      <th>total</th>\n",
       "    </tr>\n",
       "  </thead>\n",
       "  <tbody>\n",
       "    <tr>\n",
       "      <th>0</th>\n",
       "      <td>qzpjsi9t0o</td>\n",
       "      <td>GB</td>\n",
       "      <td>6oufpaot</td>\n",
       "      <td>GB</td>\n",
       "      <td>ydecnydr6obf</td>\n",
       "      <td>Dresses</td>\n",
       "      <td>NaN</td>\n",
       "      <td>GBP</td>\n",
       "      <td>19.11</td>\n",
       "      <td>2020-08-03</td>\n",
       "      <td>0.89935</td>\n",
       "      <td>21.248680</td>\n",
       "    </tr>\n",
       "    <tr>\n",
       "      <th>1</th>\n",
       "      <td>rd209r8c7c</td>\n",
       "      <td>GB</td>\n",
       "      <td>9p2ansc9</td>\n",
       "      <td>GB</td>\n",
       "      <td>wpxxf59cq7pc</td>\n",
       "      <td>Outerwear - Mens</td>\n",
       "      <td>Adidas Originals</td>\n",
       "      <td>GBP</td>\n",
       "      <td>24.91</td>\n",
       "      <td>2020-08-03</td>\n",
       "      <td>0.89935</td>\n",
       "      <td>27.697782</td>\n",
       "    </tr>\n",
       "    <tr>\n",
       "      <th>2</th>\n",
       "      <td>pqbcrl8azx</td>\n",
       "      <td>GB</td>\n",
       "      <td>r9zmzem8</td>\n",
       "      <td>GB</td>\n",
       "      <td>ua9mmn86wsqy</td>\n",
       "      <td>Tops - Womens</td>\n",
       "      <td>NaN</td>\n",
       "      <td>GBP</td>\n",
       "      <td>19.31</td>\n",
       "      <td>2020-08-03</td>\n",
       "      <td>0.89935</td>\n",
       "      <td>21.471062</td>\n",
       "    </tr>\n",
       "    <tr>\n",
       "      <th>3</th>\n",
       "      <td>j5en1rwmxp</td>\n",
       "      <td>GB</td>\n",
       "      <td>3o2nz88r</td>\n",
       "      <td>GB</td>\n",
       "      <td>tduo2uy8iszl</td>\n",
       "      <td>Bottoms - Womens</td>\n",
       "      <td>Urban Outfitters</td>\n",
       "      <td>GBP</td>\n",
       "      <td>16.98</td>\n",
       "      <td>2020-08-03</td>\n",
       "      <td>0.89935</td>\n",
       "      <td>18.880302</td>\n",
       "    </tr>\n",
       "    <tr>\n",
       "      <th>4</th>\n",
       "      <td>kjdezxeh1l</td>\n",
       "      <td>GB</td>\n",
       "      <td>7g56ublf</td>\n",
       "      <td>GB</td>\n",
       "      <td>39o00tcu89zq</td>\n",
       "      <td>Other</td>\n",
       "      <td>NaN</td>\n",
       "      <td>GBP</td>\n",
       "      <td>2.85</td>\n",
       "      <td>2020-08-03</td>\n",
       "      <td>0.89935</td>\n",
       "      <td>3.168955</td>\n",
       "    </tr>\n",
       "    <tr>\n",
       "      <th>...</th>\n",
       "      <td>...</td>\n",
       "      <td>...</td>\n",
       "      <td>...</td>\n",
       "      <td>...</td>\n",
       "      <td>...</td>\n",
       "      <td>...</td>\n",
       "      <td>...</td>\n",
       "      <td>...</td>\n",
       "      <td>...</td>\n",
       "      <td>...</td>\n",
       "      <td>...</td>\n",
       "      <td>...</td>\n",
       "    </tr>\n",
       "    <tr>\n",
       "      <th>237666</th>\n",
       "      <td>d7dx6f3qv7</td>\n",
       "      <td>RoW</td>\n",
       "      <td>e2p108mu</td>\n",
       "      <td>RoW</td>\n",
       "      <td>nan9a4p10ayk</td>\n",
       "      <td>Tops - Mens</td>\n",
       "      <td>NaN</td>\n",
       "      <td>PLN</td>\n",
       "      <td>4.24</td>\n",
       "      <td>2020-08-04</td>\n",
       "      <td>4.39693</td>\n",
       "      <td>0.964309</td>\n",
       "    </tr>\n",
       "    <tr>\n",
       "      <th>237667</th>\n",
       "      <td>iaf2ck3rj6</td>\n",
       "      <td>IT</td>\n",
       "      <td>gjb1qntq</td>\n",
       "      <td>RoW</td>\n",
       "      <td>lxj477q1hab2</td>\n",
       "      <td>Accessories</td>\n",
       "      <td>NaN</td>\n",
       "      <td>CZK</td>\n",
       "      <td>3923.18</td>\n",
       "      <td>2020-08-04</td>\n",
       "      <td>26.12360</td>\n",
       "      <td>150.177617</td>\n",
       "    </tr>\n",
       "    <tr>\n",
       "      <th>237668</th>\n",
       "      <td>tucgt70cwc</td>\n",
       "      <td>AU</td>\n",
       "      <td>9adnlxvr</td>\n",
       "      <td>RoW</td>\n",
       "      <td>2g0g0obhwjuc</td>\n",
       "      <td>Jewellery</td>\n",
       "      <td>NaN</td>\n",
       "      <td>PLN</td>\n",
       "      <td>525.82</td>\n",
       "      <td>2020-08-09</td>\n",
       "      <td>4.41427</td>\n",
       "      <td>119.118223</td>\n",
       "    </tr>\n",
       "    <tr>\n",
       "      <th>237669</th>\n",
       "      <td>rrfjxzbdxu</td>\n",
       "      <td>US</td>\n",
       "      <td>w2pozh7u</td>\n",
       "      <td>US</td>\n",
       "      <td>5mm5eg99xbu2</td>\n",
       "      <td>Bottoms - Womens</td>\n",
       "      <td>Brandy Melville</td>\n",
       "      <td>BRL</td>\n",
       "      <td>34.92</td>\n",
       "      <td>2020-08-06</td>\n",
       "      <td>6.33240</td>\n",
       "      <td>5.514497</td>\n",
       "    </tr>\n",
       "    <tr>\n",
       "      <th>237670</th>\n",
       "      <td>wnmihth4io</td>\n",
       "      <td>GB</td>\n",
       "      <td>5yogzc17</td>\n",
       "      <td>RoW</td>\n",
       "      <td>wrgq88ujwh5d</td>\n",
       "      <td>Bottoms - Womens</td>\n",
       "      <td>NaN</td>\n",
       "      <td>NOK</td>\n",
       "      <td>533.06</td>\n",
       "      <td>2020-08-08</td>\n",
       "      <td>10.64540</td>\n",
       "      <td>50.074210</td>\n",
       "    </tr>\n",
       "  </tbody>\n",
       "</table>\n",
       "<p>237671 rows × 12 columns</p>\n",
       "</div>"
      ],
      "text/plain": [
       "          buyer_id buyer_country seller_id seller_country  product_code  \\\n",
       "0       qzpjsi9t0o            GB  6oufpaot             GB  ydecnydr6obf   \n",
       "1       rd209r8c7c            GB  9p2ansc9             GB  wpxxf59cq7pc   \n",
       "2       pqbcrl8azx            GB  r9zmzem8             GB  ua9mmn86wsqy   \n",
       "3       j5en1rwmxp            GB  3o2nz88r             GB  tduo2uy8iszl   \n",
       "4       kjdezxeh1l            GB  7g56ublf             GB  39o00tcu89zq   \n",
       "...            ...           ...       ...            ...           ...   \n",
       "237666  d7dx6f3qv7           RoW  e2p108mu            RoW  nan9a4p10ayk   \n",
       "237667  iaf2ck3rj6            IT  gjb1qntq            RoW  lxj477q1hab2   \n",
       "237668  tucgt70cwc            AU  9adnlxvr            RoW  2g0g0obhwjuc   \n",
       "237669  rrfjxzbdxu            US  w2pozh7u             US  5mm5eg99xbu2   \n",
       "237670  wnmihth4io            GB  5yogzc17            RoW  wrgq88ujwh5d   \n",
       "\n",
       "                category             brand currency    price       date  \\\n",
       "0                Dresses               NaN      GBP    19.11 2020-08-03   \n",
       "1       Outerwear - Mens  Adidas Originals      GBP    24.91 2020-08-03   \n",
       "2          Tops - Womens               NaN      GBP    19.31 2020-08-03   \n",
       "3       Bottoms - Womens  Urban Outfitters      GBP    16.98 2020-08-03   \n",
       "4                  Other               NaN      GBP     2.85 2020-08-03   \n",
       "...                  ...               ...      ...      ...        ...   \n",
       "237666       Tops - Mens               NaN      PLN     4.24 2020-08-04   \n",
       "237667       Accessories               NaN      CZK  3923.18 2020-08-04   \n",
       "237668         Jewellery               NaN      PLN   525.82 2020-08-09   \n",
       "237669  Bottoms - Womens   Brandy Melville      BRL    34.92 2020-08-06   \n",
       "237670  Bottoms - Womens               NaN      NOK   533.06 2020-08-08   \n",
       "\n",
       "            rate       total  \n",
       "0        0.89935   21.248680  \n",
       "1        0.89935   27.697782  \n",
       "2        0.89935   21.471062  \n",
       "3        0.89935   18.880302  \n",
       "4        0.89935    3.168955  \n",
       "...          ...         ...  \n",
       "237666   4.39693    0.964309  \n",
       "237667  26.12360  150.177617  \n",
       "237668   4.41427  119.118223  \n",
       "237669   6.33240    5.514497  \n",
       "237670  10.64540   50.074210  \n",
       "\n",
       "[237671 rows x 12 columns]"
      ]
     },
     "execution_count": 164,
     "metadata": {},
     "output_type": "execute_result"
    }
   ],
   "source": [
    "df_new[\"total\"] = df_new.price / df_new.rate\n",
    "df_new"
   ]
  },
  {
   "cell_type": "code",
   "execution_count": 168,
   "id": "e12c7dee",
   "metadata": {},
   "outputs": [
    {
     "data": {
      "text/plain": [
       "6471510.822498876"
      ]
     },
     "execution_count": 168,
     "metadata": {},
     "output_type": "execute_result"
    }
   ],
   "source": [
    "df_new.total.sum()"
   ]
  },
  {
   "cell_type": "markdown",
   "id": "e9477756",
   "metadata": {},
   "source": [
    "5. Which brand has the highest number of purchases during the period?(Just write down the brand as in the dataset, your answer is supposed to be case sensitive)"
   ]
  },
  {
   "cell_type": "code",
   "execution_count": 169,
   "id": "f2f8012b",
   "metadata": {},
   "outputs": [
    {
     "data": {
      "text/plain": [
       "array([nan, 'Adidas Originals', 'Urban Outfitters', ..., 'Lisa Says Gah',\n",
       "       'LC Lauren Conrad', 'KTZ'], dtype=object)"
      ]
     },
     "execution_count": 169,
     "metadata": {},
     "output_type": "execute_result"
    }
   ],
   "source": [
    "df_new.brand.unique()"
   ]
  },
  {
   "cell_type": "code",
   "execution_count": 170,
   "id": "628ff5f3",
   "metadata": {},
   "outputs": [
    {
     "data": {
      "text/plain": [
       "Nike                  9575\n",
       "Brandy Melville       5065\n",
       "Topshop               4561\n",
       "PrettyLittle Thing    4136\n",
       "Adidas                3905\n",
       "                      ... \n",
       "Filson                   1\n",
       "Surf Gypsy               1\n",
       "Chaser                   1\n",
       "All Things Mochi         1\n",
       "KTZ                      1\n",
       "Name: brand, Length: 1134, dtype: int64"
      ]
     },
     "execution_count": 170,
     "metadata": {},
     "output_type": "execute_result"
    }
   ],
   "source": [
    "df_new.brand.value_counts()"
   ]
  },
  {
   "cell_type": "markdown",
   "id": "6a64f86f",
   "metadata": {},
   "source": [
    "6. How many items in the “Jewellery” category have no brand associated with them?(Just write the numbers in the format of 00.000)"
   ]
  },
  {
   "cell_type": "code",
   "execution_count": 172,
   "id": "0006bf04",
   "metadata": {},
   "outputs": [
    {
     "data": {
      "text/plain": [
       "array(['Dresses', 'Outerwear - Mens', 'Tops - Womens', 'Bottoms - Womens',\n",
       "       'Other', 'Accessories', 'Jewellery', 'Home', 'Music', 'Shoes',\n",
       "       'Tops - Mens', 'Beauty', 'Bottoms - Mens', 'Art', 'Lingerie',\n",
       "       'Outerwear', 'Tech', 'Sports equipment', 'Books & magazines',\n",
       "       'Kids', 'Underwear', 'Transportation', 'Film', nan, 'UNSPECIFIED'],\n",
       "      dtype=object)"
      ]
     },
     "execution_count": 172,
     "metadata": {},
     "output_type": "execute_result"
    }
   ],
   "source": [
    "df_new.category.unique()"
   ]
  },
  {
   "cell_type": "code",
   "execution_count": 177,
   "id": "01ea5ef1",
   "metadata": {},
   "outputs": [
    {
     "data": {
      "text/html": [
       "<div>\n",
       "<style scoped>\n",
       "    .dataframe tbody tr th:only-of-type {\n",
       "        vertical-align: middle;\n",
       "    }\n",
       "\n",
       "    .dataframe tbody tr th {\n",
       "        vertical-align: top;\n",
       "    }\n",
       "\n",
       "    .dataframe thead th {\n",
       "        text-align: right;\n",
       "    }\n",
       "</style>\n",
       "<table border=\"1\" class=\"dataframe\">\n",
       "  <thead>\n",
       "    <tr style=\"text-align: right;\">\n",
       "      <th></th>\n",
       "      <th>buyer_id</th>\n",
       "      <th>buyer_country</th>\n",
       "      <th>seller_id</th>\n",
       "      <th>seller_country</th>\n",
       "      <th>product_code</th>\n",
       "      <th>category</th>\n",
       "      <th>brand</th>\n",
       "      <th>currency</th>\n",
       "      <th>price</th>\n",
       "      <th>date</th>\n",
       "      <th>rate</th>\n",
       "      <th>total</th>\n",
       "    </tr>\n",
       "  </thead>\n",
       "  <tbody>\n",
       "    <tr>\n",
       "      <th>12</th>\n",
       "      <td>p6nqo9ow69</td>\n",
       "      <td>GB</td>\n",
       "      <td>nssbpcrq</td>\n",
       "      <td>GB</td>\n",
       "      <td>wq0l762madfz</td>\n",
       "      <td>Jewellery</td>\n",
       "      <td>NaN</td>\n",
       "      <td>GBP</td>\n",
       "      <td>5.46</td>\n",
       "      <td>2020-08-03</td>\n",
       "      <td>0.899350</td>\n",
       "      <td>6.071051</td>\n",
       "    </tr>\n",
       "    <tr>\n",
       "      <th>13</th>\n",
       "      <td>p6nqo9ow69</td>\n",
       "      <td>GB</td>\n",
       "      <td>nssbpcrq</td>\n",
       "      <td>GB</td>\n",
       "      <td>barsdufpkov1</td>\n",
       "      <td>Jewellery</td>\n",
       "      <td>NaN</td>\n",
       "      <td>GBP</td>\n",
       "      <td>5.38</td>\n",
       "      <td>2020-08-03</td>\n",
       "      <td>0.899350</td>\n",
       "      <td>5.982098</td>\n",
       "    </tr>\n",
       "    <tr>\n",
       "      <th>14</th>\n",
       "      <td>p6nqo9ow69</td>\n",
       "      <td>GB</td>\n",
       "      <td>nssbpcrq</td>\n",
       "      <td>GB</td>\n",
       "      <td>sx4v979fwe9g</td>\n",
       "      <td>Jewellery</td>\n",
       "      <td>NaN</td>\n",
       "      <td>GBP</td>\n",
       "      <td>5.55</td>\n",
       "      <td>2020-08-03</td>\n",
       "      <td>0.899350</td>\n",
       "      <td>6.171124</td>\n",
       "    </tr>\n",
       "    <tr>\n",
       "      <th>17</th>\n",
       "      <td>pykp4zs8mc</td>\n",
       "      <td>GB</td>\n",
       "      <td>scikolkp</td>\n",
       "      <td>GB</td>\n",
       "      <td>737xf8jztbe3</td>\n",
       "      <td>Jewellery</td>\n",
       "      <td>NaN</td>\n",
       "      <td>GBP</td>\n",
       "      <td>3.16</td>\n",
       "      <td>2020-08-03</td>\n",
       "      <td>0.899350</td>\n",
       "      <td>3.513649</td>\n",
       "    </tr>\n",
       "    <tr>\n",
       "      <th>18</th>\n",
       "      <td>o5xp196pcv</td>\n",
       "      <td>GB</td>\n",
       "      <td>scikolkp</td>\n",
       "      <td>GB</td>\n",
       "      <td>737xf8jztbe3</td>\n",
       "      <td>Jewellery</td>\n",
       "      <td>NaN</td>\n",
       "      <td>GBP</td>\n",
       "      <td>3.19</td>\n",
       "      <td>2020-08-03</td>\n",
       "      <td>0.899350</td>\n",
       "      <td>3.547006</td>\n",
       "    </tr>\n",
       "    <tr>\n",
       "      <th>...</th>\n",
       "      <td>...</td>\n",
       "      <td>...</td>\n",
       "      <td>...</td>\n",
       "      <td>...</td>\n",
       "      <td>...</td>\n",
       "      <td>...</td>\n",
       "      <td>...</td>\n",
       "      <td>...</td>\n",
       "      <td>...</td>\n",
       "      <td>...</td>\n",
       "      <td>...</td>\n",
       "      <td>...</td>\n",
       "    </tr>\n",
       "    <tr>\n",
       "      <th>237559</th>\n",
       "      <td>r5yybfohtd</td>\n",
       "      <td>RoW</td>\n",
       "      <td>obj73jrd</td>\n",
       "      <td>RoW</td>\n",
       "      <td>cltpu36u88j9</td>\n",
       "      <td>Jewellery</td>\n",
       "      <td>NaN</td>\n",
       "      <td>CHF</td>\n",
       "      <td>51.37</td>\n",
       "      <td>2020-08-06</td>\n",
       "      <td>1.080625</td>\n",
       "      <td>47.537305</td>\n",
       "    </tr>\n",
       "    <tr>\n",
       "      <th>237603</th>\n",
       "      <td>cdg1teu4ci</td>\n",
       "      <td>RoW</td>\n",
       "      <td>qkbj84x9</td>\n",
       "      <td>RoW</td>\n",
       "      <td>57vayo0pe16h</td>\n",
       "      <td>Jewellery</td>\n",
       "      <td>NaN</td>\n",
       "      <td>CHF</td>\n",
       "      <td>6.43</td>\n",
       "      <td>2020-08-05</td>\n",
       "      <td>1.078185</td>\n",
       "      <td>5.963726</td>\n",
       "    </tr>\n",
       "    <tr>\n",
       "      <th>237605</th>\n",
       "      <td>akms2z4sfi</td>\n",
       "      <td>RoW</td>\n",
       "      <td>46doai5x</td>\n",
       "      <td>RoW</td>\n",
       "      <td>23m53gbwhy5i</td>\n",
       "      <td>Jewellery</td>\n",
       "      <td>NaN</td>\n",
       "      <td>CHF</td>\n",
       "      <td>12.98</td>\n",
       "      <td>2020-08-05</td>\n",
       "      <td>1.078185</td>\n",
       "      <td>12.038750</td>\n",
       "    </tr>\n",
       "    <tr>\n",
       "      <th>237644</th>\n",
       "      <td>5dqjb29gah</td>\n",
       "      <td>RoW</td>\n",
       "      <td>echsgc0o</td>\n",
       "      <td>RoW</td>\n",
       "      <td>gamzhdm6zesg</td>\n",
       "      <td>Jewellery</td>\n",
       "      <td>NaN</td>\n",
       "      <td>SEK</td>\n",
       "      <td>328.72</td>\n",
       "      <td>2020-08-07</td>\n",
       "      <td>10.314180</td>\n",
       "      <td>31.870687</td>\n",
       "    </tr>\n",
       "    <tr>\n",
       "      <th>237668</th>\n",
       "      <td>tucgt70cwc</td>\n",
       "      <td>AU</td>\n",
       "      <td>9adnlxvr</td>\n",
       "      <td>RoW</td>\n",
       "      <td>2g0g0obhwjuc</td>\n",
       "      <td>Jewellery</td>\n",
       "      <td>NaN</td>\n",
       "      <td>PLN</td>\n",
       "      <td>525.82</td>\n",
       "      <td>2020-08-09</td>\n",
       "      <td>4.414270</td>\n",
       "      <td>119.118223</td>\n",
       "    </tr>\n",
       "  </tbody>\n",
       "</table>\n",
       "<p>13525 rows × 12 columns</p>\n",
       "</div>"
      ],
      "text/plain": [
       "          buyer_id buyer_country seller_id seller_country  product_code  \\\n",
       "12      p6nqo9ow69            GB  nssbpcrq             GB  wq0l762madfz   \n",
       "13      p6nqo9ow69            GB  nssbpcrq             GB  barsdufpkov1   \n",
       "14      p6nqo9ow69            GB  nssbpcrq             GB  sx4v979fwe9g   \n",
       "17      pykp4zs8mc            GB  scikolkp             GB  737xf8jztbe3   \n",
       "18      o5xp196pcv            GB  scikolkp             GB  737xf8jztbe3   \n",
       "...            ...           ...       ...            ...           ...   \n",
       "237559  r5yybfohtd           RoW  obj73jrd            RoW  cltpu36u88j9   \n",
       "237603  cdg1teu4ci           RoW  qkbj84x9            RoW  57vayo0pe16h   \n",
       "237605  akms2z4sfi           RoW  46doai5x            RoW  23m53gbwhy5i   \n",
       "237644  5dqjb29gah           RoW  echsgc0o            RoW  gamzhdm6zesg   \n",
       "237668  tucgt70cwc            AU  9adnlxvr            RoW  2g0g0obhwjuc   \n",
       "\n",
       "         category brand currency   price       date       rate       total  \n",
       "12      Jewellery   NaN      GBP    5.46 2020-08-03   0.899350    6.071051  \n",
       "13      Jewellery   NaN      GBP    5.38 2020-08-03   0.899350    5.982098  \n",
       "14      Jewellery   NaN      GBP    5.55 2020-08-03   0.899350    6.171124  \n",
       "17      Jewellery   NaN      GBP    3.16 2020-08-03   0.899350    3.513649  \n",
       "18      Jewellery   NaN      GBP    3.19 2020-08-03   0.899350    3.547006  \n",
       "...           ...   ...      ...     ...        ...        ...         ...  \n",
       "237559  Jewellery   NaN      CHF   51.37 2020-08-06   1.080625   47.537305  \n",
       "237603  Jewellery   NaN      CHF    6.43 2020-08-05   1.078185    5.963726  \n",
       "237605  Jewellery   NaN      CHF   12.98 2020-08-05   1.078185   12.038750  \n",
       "237644  Jewellery   NaN      SEK  328.72 2020-08-07  10.314180   31.870687  \n",
       "237668  Jewellery   NaN      PLN  525.82 2020-08-09   4.414270  119.118223  \n",
       "\n",
       "[13525 rows x 12 columns]"
      ]
     },
     "execution_count": 177,
     "metadata": {},
     "output_type": "execute_result"
    }
   ],
   "source": [
    "df_new[(df_new.category == \"Jewellery\") & (df_new.brand.isnull())]"
   ]
  },
  {
   "cell_type": "code",
   "execution_count": 178,
   "id": "69e3da0f",
   "metadata": {},
   "outputs": [
    {
     "data": {
      "text/plain": [
       "10931"
      ]
     },
     "execution_count": 178,
     "metadata": {},
     "output_type": "execute_result"
    }
   ],
   "source": [
    "df_new[(df_new.category == \"Jewellery\") & (df_new.brand.isnull())].product_code.nunique()"
   ]
  },
  {
   "cell_type": "markdown",
   "id": "20d1c616",
   "metadata": {},
   "source": [
    " \n",
    "7. How many brands have between 35 and 55 transactions (inclusive)?(Just write the numbers)"
   ]
  },
  {
   "cell_type": "code",
   "execution_count": 179,
   "id": "1317edd5",
   "metadata": {},
   "outputs": [
    {
     "data": {
      "text/plain": [
       "Nike                  9575\n",
       "Brandy Melville       5065\n",
       "Topshop               4561\n",
       "PrettyLittle Thing    4136\n",
       "Adidas                3905\n",
       "                      ... \n",
       "Filson                   1\n",
       "Surf Gypsy               1\n",
       "Chaser                   1\n",
       "All Things Mochi         1\n",
       "KTZ                      1\n",
       "Name: brand, Length: 1134, dtype: int64"
      ]
     },
     "execution_count": 179,
     "metadata": {},
     "output_type": "execute_result"
    }
   ],
   "source": [
    "df_new.brand.value_counts()"
   ]
  },
  {
   "cell_type": "code",
   "execution_count": 184,
   "id": "152349ce",
   "metadata": {},
   "outputs": [
    {
     "data": {
      "text/plain": [
       "81"
      ]
     },
     "execution_count": 184,
     "metadata": {},
     "output_type": "execute_result"
    }
   ],
   "source": [
    "((df_new.brand.value_counts() >= 35) & (df_new.brand.value_counts() <= 55)).sum()"
   ]
  },
  {
   "cell_type": "markdown",
   "id": "20e20e5c",
   "metadata": {},
   "source": [
    " \n",
    "8. How many pairs of shoes were purchased by Australian (AU) buyers?(Just write the the numbers)"
   ]
  },
  {
   "cell_type": "code",
   "execution_count": 189,
   "id": "53237f55",
   "metadata": {},
   "outputs": [
    {
     "data": {
      "text/plain": [
       "array(['Dresses', 'Outerwear - Mens', 'Tops - Womens', 'Bottoms - Womens',\n",
       "       'Other', 'Accessories', 'Jewellery', 'Home', 'Music', 'Shoes',\n",
       "       'Tops - Mens', 'Beauty', 'Bottoms - Mens', 'Art', 'Lingerie',\n",
       "       'Outerwear', 'Tech', 'Sports equipment', 'Books & magazines',\n",
       "       'Kids', 'Underwear', 'Transportation', 'Film', nan, 'UNSPECIFIED'],\n",
       "      dtype=object)"
      ]
     },
     "execution_count": 189,
     "metadata": {},
     "output_type": "execute_result"
    }
   ],
   "source": [
    "df_new.category.unique()"
   ]
  },
  {
   "cell_type": "code",
   "execution_count": 192,
   "id": "35a1eca4",
   "metadata": {},
   "outputs": [
    {
     "data": {
      "text/plain": [
       "658"
      ]
     },
     "execution_count": 192,
     "metadata": {},
     "output_type": "execute_result"
    }
   ],
   "source": [
    "len(df_new[(df_new.buyer_country == \"AU\") & (df_new.category == \"Shoes\")])"
   ]
  },
  {
   "cell_type": "code",
   "execution_count": 193,
   "id": "1bbaa784",
   "metadata": {},
   "outputs": [
    {
     "data": {
      "text/plain": [
       "(658, 12)"
      ]
     },
     "execution_count": 193,
     "metadata": {},
     "output_type": "execute_result"
    }
   ],
   "source": [
    "df_new[(df_new.buyer_country == \"AU\") & (df_new.category == \"Shoes\")].shape"
   ]
  },
  {
   "cell_type": "markdown",
   "id": "f92555e9",
   "metadata": {},
   "source": [
    " \n",
    "9. Which brand has the highest average transaction value? (Just write down the brand as in the dataset, your answer is supposed to be case sensitive)"
   ]
  },
  {
   "cell_type": "code",
   "execution_count": 207,
   "id": "f162af04",
   "metadata": {},
   "outputs": [
    {
     "data": {
      "text/plain": [
       "brand\n",
       "& Other Stories    30.566358\n",
       "032c               34.252727\n",
       "11 Degrees         13.113939\n",
       "1822 Denim         18.847500\n",
       "3.1 Phillip Lim    35.616000\n",
       "                     ...    \n",
       "ghd                56.146000\n",
       "kensie             23.450000\n",
       "liquid blue        46.085962\n",
       "mixxmix            18.787500\n",
       "philosophy         26.585000\n",
       "Name: price, Length: 1134, dtype: float64"
      ]
     },
     "execution_count": 207,
     "metadata": {},
     "output_type": "execute_result"
    }
   ],
   "source": [
    "df_new.groupby(\"brand\")[\"price\"].mean()"
   ]
  },
  {
   "cell_type": "code",
   "execution_count": 197,
   "id": "b081bdf9",
   "metadata": {},
   "outputs": [
    {
     "data": {
      "text/plain": [
       "'Goyard'"
      ]
     },
     "execution_count": 197,
     "metadata": {},
     "output_type": "execute_result"
    }
   ],
   "source": [
    "df_new.groupby(\"brand\")[\"price\"].mean().idxmax()"
   ]
  },
  {
   "cell_type": "code",
   "execution_count": 205,
   "id": "4027d2ab",
   "metadata": {},
   "outputs": [
    {
     "data": {
      "text/plain": [
       "339.3633333333333"
      ]
     },
     "execution_count": 205,
     "metadata": {},
     "output_type": "execute_result"
    }
   ],
   "source": [
    "df_new.groupby(\"brand\")[\"price\"].mean().max()"
   ]
  },
  {
   "cell_type": "code",
   "execution_count": 204,
   "id": "5ddd3736",
   "metadata": {},
   "outputs": [
    {
     "data": {
      "text/plain": [
       "brand\n",
       "Goyard    339.363333\n",
       "Name: price, dtype: float64"
      ]
     },
     "execution_count": 204,
     "metadata": {},
     "output_type": "execute_result"
    }
   ],
   "source": [
    "df_new.groupby(\"brand\")[\"price\"].mean().sort_values(ascending=False).head(1)"
   ]
  },
  {
   "cell_type": "code",
   "execution_count": 200,
   "id": "53175526",
   "metadata": {},
   "outputs": [
    {
     "data": {
      "text/html": [
       "<div>\n",
       "<style scoped>\n",
       "    .dataframe tbody tr th:only-of-type {\n",
       "        vertical-align: middle;\n",
       "    }\n",
       "\n",
       "    .dataframe tbody tr th {\n",
       "        vertical-align: top;\n",
       "    }\n",
       "\n",
       "    .dataframe thead th {\n",
       "        text-align: right;\n",
       "    }\n",
       "</style>\n",
       "<table border=\"1\" class=\"dataframe\">\n",
       "  <thead>\n",
       "    <tr style=\"text-align: right;\">\n",
       "      <th></th>\n",
       "      <th>buyer_id</th>\n",
       "      <th>buyer_country</th>\n",
       "      <th>seller_id</th>\n",
       "      <th>seller_country</th>\n",
       "      <th>product_code</th>\n",
       "      <th>category</th>\n",
       "      <th>brand</th>\n",
       "      <th>currency</th>\n",
       "      <th>price</th>\n",
       "      <th>date</th>\n",
       "      <th>rate</th>\n",
       "      <th>total</th>\n",
       "    </tr>\n",
       "  </thead>\n",
       "  <tbody>\n",
       "    <tr>\n",
       "      <th>0</th>\n",
       "      <td>qzpjsi9t0o</td>\n",
       "      <td>GB</td>\n",
       "      <td>6oufpaot</td>\n",
       "      <td>GB</td>\n",
       "      <td>ydecnydr6obf</td>\n",
       "      <td>Dresses</td>\n",
       "      <td>NaN</td>\n",
       "      <td>GBP</td>\n",
       "      <td>19.11</td>\n",
       "      <td>2020-08-03</td>\n",
       "      <td>0.89935</td>\n",
       "      <td>21.248680</td>\n",
       "    </tr>\n",
       "    <tr>\n",
       "      <th>1</th>\n",
       "      <td>rd209r8c7c</td>\n",
       "      <td>GB</td>\n",
       "      <td>9p2ansc9</td>\n",
       "      <td>GB</td>\n",
       "      <td>wpxxf59cq7pc</td>\n",
       "      <td>Outerwear - Mens</td>\n",
       "      <td>Adidas Originals</td>\n",
       "      <td>GBP</td>\n",
       "      <td>24.91</td>\n",
       "      <td>2020-08-03</td>\n",
       "      <td>0.89935</td>\n",
       "      <td>27.697782</td>\n",
       "    </tr>\n",
       "    <tr>\n",
       "      <th>2</th>\n",
       "      <td>pqbcrl8azx</td>\n",
       "      <td>GB</td>\n",
       "      <td>r9zmzem8</td>\n",
       "      <td>GB</td>\n",
       "      <td>ua9mmn86wsqy</td>\n",
       "      <td>Tops - Womens</td>\n",
       "      <td>NaN</td>\n",
       "      <td>GBP</td>\n",
       "      <td>19.31</td>\n",
       "      <td>2020-08-03</td>\n",
       "      <td>0.89935</td>\n",
       "      <td>21.471062</td>\n",
       "    </tr>\n",
       "    <tr>\n",
       "      <th>3</th>\n",
       "      <td>j5en1rwmxp</td>\n",
       "      <td>GB</td>\n",
       "      <td>3o2nz88r</td>\n",
       "      <td>GB</td>\n",
       "      <td>tduo2uy8iszl</td>\n",
       "      <td>Bottoms - Womens</td>\n",
       "      <td>Urban Outfitters</td>\n",
       "      <td>GBP</td>\n",
       "      <td>16.98</td>\n",
       "      <td>2020-08-03</td>\n",
       "      <td>0.89935</td>\n",
       "      <td>18.880302</td>\n",
       "    </tr>\n",
       "    <tr>\n",
       "      <th>4</th>\n",
       "      <td>kjdezxeh1l</td>\n",
       "      <td>GB</td>\n",
       "      <td>7g56ublf</td>\n",
       "      <td>GB</td>\n",
       "      <td>39o00tcu89zq</td>\n",
       "      <td>Other</td>\n",
       "      <td>NaN</td>\n",
       "      <td>GBP</td>\n",
       "      <td>2.85</td>\n",
       "      <td>2020-08-03</td>\n",
       "      <td>0.89935</td>\n",
       "      <td>3.168955</td>\n",
       "    </tr>\n",
       "  </tbody>\n",
       "</table>\n",
       "</div>"
      ],
      "text/plain": [
       "     buyer_id buyer_country seller_id seller_country  product_code  \\\n",
       "0  qzpjsi9t0o            GB  6oufpaot             GB  ydecnydr6obf   \n",
       "1  rd209r8c7c            GB  9p2ansc9             GB  wpxxf59cq7pc   \n",
       "2  pqbcrl8azx            GB  r9zmzem8             GB  ua9mmn86wsqy   \n",
       "3  j5en1rwmxp            GB  3o2nz88r             GB  tduo2uy8iszl   \n",
       "4  kjdezxeh1l            GB  7g56ublf             GB  39o00tcu89zq   \n",
       "\n",
       "           category             brand currency  price       date     rate  \\\n",
       "0           Dresses               NaN      GBP  19.11 2020-08-03  0.89935   \n",
       "1  Outerwear - Mens  Adidas Originals      GBP  24.91 2020-08-03  0.89935   \n",
       "2     Tops - Womens               NaN      GBP  19.31 2020-08-03  0.89935   \n",
       "3  Bottoms - Womens  Urban Outfitters      GBP  16.98 2020-08-03  0.89935   \n",
       "4             Other               NaN      GBP   2.85 2020-08-03  0.89935   \n",
       "\n",
       "       total  \n",
       "0  21.248680  \n",
       "1  27.697782  \n",
       "2  21.471062  \n",
       "3  18.880302  \n",
       "4   3.168955  "
      ]
     },
     "execution_count": 200,
     "metadata": {},
     "output_type": "execute_result"
    }
   ],
   "source": [
    "df_new.head()"
   ]
  },
  {
   "cell_type": "markdown",
   "id": "e6fdc67f",
   "metadata": {},
   "source": [
    "10. What is the total value of items purchased by GB buyers from GB sellers? (Just write the numbers in the format of 0.000.000 )"
   ]
  },
  {
   "cell_type": "code",
   "execution_count": 210,
   "id": "4de20128",
   "metadata": {},
   "outputs": [
    {
     "data": {
      "text/plain": [
       "3526745.033129233"
      ]
     },
     "execution_count": 210,
     "metadata": {},
     "output_type": "execute_result"
    }
   ],
   "source": [
    "df_new[(df_new.seller_country == \"GB\") & (df_new.buyer_country == \"GB\")][\"total\"].sum()"
   ]
  },
  {
   "cell_type": "markdown",
   "id": "33a79e26",
   "metadata": {},
   "source": [
    "11. What percentage of US sellers' transactions were purchased by US buyers? (Just write the percentage in the format of 00.00%)"
   ]
  },
  {
   "cell_type": "code",
   "execution_count": 215,
   "id": "003ce521",
   "metadata": {},
   "outputs": [
    {
     "data": {
      "text/plain": [
       "2021779.311517296"
      ]
     },
     "execution_count": 215,
     "metadata": {},
     "output_type": "execute_result"
    }
   ],
   "source": [
    "US_to_US = df_new[(df_new.seller_country == \"US\") & (df_new.buyer_country == \"US\")][\"total\"].sum()\n",
    "US_to_US"
   ]
  },
  {
   "cell_type": "code",
   "execution_count": 216,
   "id": "d2e30675",
   "metadata": {},
   "outputs": [
    {
     "data": {
      "text/plain": [
       "2106695.5606899997"
      ]
     },
     "execution_count": 216,
     "metadata": {},
     "output_type": "execute_result"
    }
   ],
   "source": [
    "US_to_all = df_new[df_new.seller_country == \"US\"][\"total\"].sum()\n",
    "US_to_all"
   ]
  },
  {
   "cell_type": "code",
   "execution_count": 217,
   "id": "92254cca",
   "metadata": {},
   "outputs": [
    {
     "data": {
      "text/plain": [
       "0.9596922067159569"
      ]
     },
     "execution_count": 217,
     "metadata": {},
     "output_type": "execute_result"
    }
   ],
   "source": [
    "US_to_US / US_to_all"
   ]
  },
  {
   "cell_type": "markdown",
   "id": "7daaa8e7",
   "metadata": {},
   "source": [
    "# THE END"
   ]
  }
 ],
 "metadata": {
  "kernelspec": {
   "display_name": "Python 3 (ipykernel)",
   "language": "python",
   "name": "python3"
  },
  "language_info": {
   "codemirror_mode": {
    "name": "ipython",
    "version": 3
   },
   "file_extension": ".py",
   "mimetype": "text/x-python",
   "name": "python",
   "nbconvert_exporter": "python",
   "pygments_lexer": "ipython3",
   "version": "3.9.7"
  }
 },
 "nbformat": 4,
 "nbformat_minor": 5
}
